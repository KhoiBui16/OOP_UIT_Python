{
 "cells": [
  {
   "cell_type": "markdown",
   "metadata": {},
   "source": [
    "### Trong Jupyter Notebook, bạn có thể sử dụng markdown để tạo các văn bản định dạng đẹp, chú thích và tài liệu kèm theo mã nguồn của bạn. Dưới đây là một số hướng dẫn cơ bản để chỉnh markdown trong Jupyter Notebook:"
   ]
  },
  {
   "cell_type": "markdown",
   "metadata": {},
   "source": [
    "# 1. Tiêu đề:\n",
    "-  Sử dụng ký tự # để tạo các tiêu đề. Bạn có thể sử dụng từ một đến sáu ký tự # để tạo các tiêu đề từ lớn đến nhỏ.\n",
    "# Tiêu đề 1\n",
    "## Tiêu đề 2\n",
    "### Tiêu đề 3\n",
    "#### Tiêu đề 4\n",
    "##### Tiêu đề 5\n",
    "###### Tiêu đề 6"
   ]
  },
  {
   "cell_type": "markdown",
   "metadata": {},
   "source": [
    "# 2. Đoạn văn\n",
    "- Chỉ cần viết văn bản bình thường để tạo các đoạn văn.  \n",
    "Đây là một đoạn văn bản đơn giản trong markdown.  \n",
    "\n"
   ]
  },
  {
   "cell_type": "markdown",
   "metadata": {},
   "source": [
    "# 3. In đậm và in nghiêng\n",
    "+ In đậm: Sử dụng hai dấu sao ** hoặc hai dấu gạch dưới __ xung quanh văn bản.  \n",
    "+ In nghiêng: Sử dụng một dấu sao * hoặc một dấu gạch dưới _ xung quanh văn bản.  \n",
    "\n",
    "    **In đậm** hoặc __in đậm__\n",
    "\n",
    "    *In nghiêng* hoặc _in nghiêng_\n"
   ]
  },
  {
   "cell_type": "markdown",
   "metadata": {},
   "source": [
    "# 4. Danh sách\n",
    "Danh sách không có thứ tự: Sử dụng dấu gạch đầu dòng -, dấu cộng +, hoặc dấu sao *.\n",
    "Danh sách có thứ tự: Sử dụng số và dấu chấm.\n",
    "\n",
    "- Mục không có thứ tự 1  \n",
    "- Mục không có thứ tự 2  \n",
    "  - Mục con  \n",
    "\n",
    "1. Mục có thứ tự 1  \n",
    "2. Mục có thứ tự 2  \n",
    "   1. Mục con\n"
   ]
  },
  {
   "cell_type": "markdown",
   "metadata": {},
   "source": [
    "# 5. Liên kết\n",
    "    Để tạo liên kết, sử dụng cú pháp [tên liên kết](URL).\n",
    "    VD:  [OpenAI](https://www.openai.com)\n"
   ]
  },
  {
   "cell_type": "markdown",
   "metadata": {},
   "source": [
    "# 6. Hình ảnh\n",
    "Để chèn hình ảnh, sử dụng cú pháp ![mô tả hình ảnh](URL hình ảnh).  \n",
    "VD: ![OpenAI logo](https://www.openai.com/assets/images/openai-logo.png)\n"
   ]
  },
  {
   "cell_type": "markdown",
   "metadata": {},
   "source": [
    "# 7. Mã nguồn\n",
    "Để chèn đoạn mã nguồn trong dòng, sử dụng dấu gạch ngược `.  \n",
    "Đoạn mã nguồn trong dòng: `print(\"Hello, World!\")`  \n",
    "Để chèn khối mã nguồn, sử dụng ba dấu gạch ngược ``` trước và sau đoạn mã.\n"
   ]
  },
  {
   "cell_type": "markdown",
   "metadata": {},
   "source": [
    "# 8. Bảng\n",
    "Để tạo bảng, sử dụng dấu gạch đứng | và dấu gạch ngang -.  \n",
    "| Cột 1 | Cột 2 |\n",
    "|-------|-------|\n",
    "| Hàng 1 | Hàng 1 |\n",
    "| Hàng 2 | Hàng 2 |\n",
    "\n"
   ]
  },
  {
   "cell_type": "markdown",
   "metadata": {},
   "source": [
    "# 9. Trích dẫn\n",
    "Sử dụng dấu > để tạo trích dẫn.  \n",
    "> Đây là một trích dẫn.\n"
   ]
  },
  {
   "cell_type": "markdown",
   "metadata": {},
   "source": [
    "# 10. Chèn LaTeX\n",
    "Để chèn công thức toán học sử dụng LaTeX, sử dụng dấu $.  \n",
    "Công thức inline: $E = mc^2$\n",
    "\n",
    "Khối công thức:\n",
    "$$\n",
    "a^2 + b^2 = c^2\n",
    "$$  \n",
    "Bạn có thể chuyển đổi một ô thành chế độ markdown bằng cách chọn ô đó và nhấn M trên bàn phím hoặc chọn từ menu Cell -> Cell Type -> Markdown."
   ]
  },
  {
   "cell_type": "markdown",
   "metadata": {},
   "source": [
    "### Dưới đây là một số phím tắt hữu ích trong Jupyter Notebook giúp bạn làm việc nhanh chóng và hiệu quả hơn:"
   ]
  },
  {
   "cell_type": "markdown",
   "metadata": {},
   "source": [
    "##### 1. Chuyển đổi giữa các chế độ  \n"
   ]
  },
  {
   "cell_type": "markdown",
   "metadata": {},
   "source": [
    "- Chuyển sang chế độ lệnh: Esc  \n",
    "- Chuyển sang chế độ chỉnh sửa: Enter  "
   ]
  },
  {
   "cell_type": "markdown",
   "metadata": {},
   "source": [
    "##### 2. Chế độ lệnh "
   ]
  },
  {
   "cell_type": "markdown",
   "metadata": {},
   "source": [
    "- Chạy ô hiện tại và chuyển sang ô tiếp theo: Shift + Enter  \n",
    "- Chạy ô hiện tại và chèn một ô mới bên dưới: Alt + Enter  \n",
    "- Chạy ô hiện tại và không chuyển: Ctrl + Enter  \n",
    "- Chèn ô mới bên dưới: B  \n",
    "- Chèn ô mới bên trên: A  \n",
    "- Xóa ô hiện tại: D, D (nhấn D hai lần)  \n",
    "- Chuyển ô hiện tại thành markdown: M  \n",
    "- Chuyển ô hiện tại thành code: Y  \n",
    "- Sao chép ô hiện tại: C \n",
    "- Cắt ô hiện tại: X  \n",
    "- Dán ô: V  \n",
    "- Lưu notebook: Ctrl + S  \n",
    "- Mở bảng điều khiển lệnh: Ctrl + Shift + P  \n",
    "- Chọn nhiều ô: Giữ Shift và sử dụng các phím mũi tên  \n",
    "- Di chuyển ô lên: Shift + Up  \n",
    "- Di chuyển ô xuống: Shift + Down  \n",
    "- Khởi động lại kernel: 0, 0 (nhấn 0 hai lần)  \n",
    "- Thực hiện tìm kiếm và thay thế: F  "
   ]
  },
  {
   "cell_type": "markdown",
   "metadata": {},
   "source": [
    "##### 3. Chế độ chỉnh sửa"
   ]
  },
  {
   "cell_type": "markdown",
   "metadata": {},
   "source": [
    "- Thoát chế độ chỉnh sửa và chuyển sang chế độ lệnh: Esc\n",
    "- Tự động hoàn thành mã: Tab\n",
    "- Hiển thị các đề xuất mã: Ctrl + Space\n",
    "- Thụt lề (Indent): Tab\n",
    "- Xóa thụt lề (Dedent): Shift + Tab\n",
    "- Chọn tất cả: Ctrl + A\n",
    "- Tìm kiếm: Ctrl + F\n",
    "- Tìm kiếm và thay thế: Ctrl + H\n",
    "- Di chuyển lên một dòng: Up\n",
    "- Di chuyển xuống một dòng: Down\n",
    "- Di chuyển con trỏ lên đầu dòng hiện tại: Ctrl + Left\n",
    "- Di chuyển con trỏ xuống cuối dòng hiện tại: Ctrl + Right\n",
    "- Chuyển đổi sang chế độ toán học (math mode): Ctrl + M"
   ]
  },
  {
   "cell_type": "markdown",
   "metadata": {},
   "source": [
    "# Chế độ lệnh (Command Mode)"
   ]
  },
  {
   "cell_type": "markdown",
   "metadata": {},
   "source": [
    "1. Khi bạn đang ở chế độ lệnh (Command Mode), tức là không có con trỏ nhấp nháy trong ô (cell):  \n",
    "    - Chèn một ô mới bên dưới: B (viết tắt của \"below\")  \n",
    "    - Chèn một ô mới bên trên: A (viết tắt của \"above\")  "
   ]
  },
  {
   "cell_type": "markdown",
   "metadata": {},
   "source": [
    "2. Chuyển đổi giữa mã (code) và markdown\n",
    "    - Chuyển ô hiện tại thành markdown: M\n",
    "    - Chuyển ô hiện tại thành mã (code): Y"
   ]
  },
  {
   "cell_type": "markdown",
   "metadata": {},
   "source": [
    "3. Chuyển đổi giữa chế độ lệnh và chế độ chỉnh sửa\n",
    "    - Chuyển sang chế độ chỉnh sửa: Enter\n",
    "    - Chuyển sang chế độ lệnh: Esc"
   ]
  },
  {
   "cell_type": "markdown",
   "metadata": {},
   "source": [
    "4. Phím tắt hữu ích khác\n",
    "    - Chạy ô hiện tại và chuyển sang ô tiếp theo: Shift + Enter\n",
    "    - Chạy ô hiện tại và chèn một ô mới bên dưới: Alt + Enter\n",
    "    - Chạy ô hiện tại và không chuyển: Ctrl + Enter"
   ]
  },
  {
   "cell_type": "markdown",
   "metadata": {},
   "source": [
    "5. Các phím tắt thường dùng:\n",
    "- Trong chế độ lệnh, bạn có thể quản lý các ô (cell) và điều hướng trong notebook.\n",
    "\n",
    "    - Chạy ô hiện tại và chuyển sang ô tiếp theo: Shift + Enter\n",
    "    - Chạy ô hiện tại và chèn một ô mới bên dưới: Alt + Enter\n",
    "    - Chạy ô hiện tại và không chuyển: Ctrl + Enter\n",
    "    - Chèn ô mới bên dưới: B\n",
    "    - Chèn ô mới bên trên: A\n",
    "    - Xóa ô hiện tại: D, D (nhấn D hai lần)\n",
    "    - Cắt ô hiện tại: X\n",
    "    - Sao chép ô hiện tại: C\n",
    "    - Dán ô: V\n",
    "    - Chuyển ô hiện tại thành markdown: M\n",
    "    - Chuyển ô hiện tại thành code: Y\n",
    "    - Di chuyển ô lên trên: K hoặc Up\n",
    "    - Di chuyển ô xuống dưới: J hoặc Down\n",
    "    - Thay đổi chế độ chỉnh sửa cho ô hiện tại: Enter\n",
    "    - Thoát chế độ chỉnh sửa và chuyển sang chế độ lệnh: Esc\n",
    "    - Lưu notebook: Ctrl + S"
   ]
  },
  {
   "cell_type": "markdown",
   "metadata": {},
   "source": [
    "6. Chế độ chỉnh sửa (Edit Mode):\n",
    "- Trong chế độ chỉnh sửa, bạn có thể chỉnh sửa nội dung của các ô.\n",
    "    - Thoát chế độ chỉnh sửa và chuyển sang chế độ lệnh: Esc\n",
    "    - Hoàn thành tự động: Tab\n",
    "    - Giảm thụt lề (dedent): Shift + Tab\n",
    "    - Chạy ô hiện tại và chuyển sang ô tiếp theo: Shift + Enter\n",
    "    - Chạy ô hiện tại và chèn một ô mới bên dưới: Alt + Enter\n",
    "    - Chạy ô hiện tại và không chuyển: Ctrl + Enter"
   ]
  },
  {
   "cell_type": "markdown",
   "metadata": {},
   "source": [
    "7. Thanh lệnh (Command Palette)\n",
    "- Mở thanh lệnh: Ctrl + Shift + P (hoặc Cmd + Shift + P trên macOS)"
   ]
  },
  {
   "cell_type": "markdown",
   "metadata": {},
   "source": [
    "8. Điều hướng và quản lý file\n",
    "    - Mở một notebook mới: Ctrl + Shift + N\n",
    "    - Đóng tab hiện tại: Ctrl + W\n",
    "    - Đóng cửa sổ hiện tại: Ctrl + Shift + W\n",
    "    - Chuyển đổi giữa các tab: Ctrl + Tab"
   ]
  },
  {
   "cell_type": "markdown",
   "metadata": {},
   "source": [
    "9. Cài đặt phóng to/thu nhỏ\n",
    "    - Phóng to: Ctrl + = (hoặc Cmd + = trên macOS)\n",
    "    - Thu nhỏ: Ctrl + - (hoặc Cmd + - trên macOS)\n",
    "    - Đặt lại tỷ lệ: Ctrl + 0 (hoặc Cmd + 0 trên macOS)\n",
    "    - Phóng to/Thu nhỏ bằng cuộn chuột: Ctrl + cuộn chuột (hoặc Cmd + cuộn chuột trên macOS) nếu editor.mouseWheelZoom được kích hoạt trong settings.json."
   ]
  }
 ],
 "metadata": {
  "kernelspec": {
   "display_name": "base",
   "language": "python",
   "name": "python3"
  },
  "language_info": {
   "codemirror_mode": {
    "name": "ipython",
    "version": 3
   },
   "file_extension": ".py",
   "mimetype": "text/x-python",
   "name": "python",
   "nbconvert_exporter": "python",
   "pygments_lexer": "ipython3",
   "version": "3.12.4"
  }
 },
 "nbformat": 4,
 "nbformat_minor": 2
}
