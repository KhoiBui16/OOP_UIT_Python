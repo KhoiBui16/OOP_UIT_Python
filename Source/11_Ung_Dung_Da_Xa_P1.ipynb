{
 "cells": [
  {
   "cell_type": "markdown",
   "metadata": {},
   "source": [
    "# Ứng dụng của đa xạ - Phần 1"
   ]
  },
  {
   "cell_type": "markdown",
   "metadata": {},
   "source": [
    "## Bài toán - Chi tiết máy Python:"
   ]
  },
  {
   "cell_type": "markdown",
   "metadata": {},
   "source": [
    "- Một cái máy có nhiều chi tiết. Mỗi chi tiết máy có thể là chi tiết đơn hoặc là chi tiết phức:\n",
    "\n",
    "  - Chi tiết `đơn`: là chi tiết không chứa bên trong nó chi tiết khác. \n",
    "  - Thông tin của `chi tiết đơn` bao gồm: `mã số chi tiết`, `giá tiền`.\n",
    "\n",
    "  - Chi tiết `phức`: là chi tiết chứa bên trong nó nhiều chi tiết thành phần, mỗi một chi tiết thành phần này `có thể` là chi tiết `đơn` hoặc là chi tiết `phức`.\n",
    "  \n",
    "  - Thông tin của `chi tiết phức` bao gồm:\n",
    "    - `mã số` chi tiết\n",
    "    - `số lượng` chi tiết thành phần\n",
    "    - `danh sách` các chi tiết thành phần.\n",
    "    - `Giá` của chi tiết phức bằng `tổng giá tiền` của các `chi tiết thành phần`.\n"
   ]
  },
  {
   "cell_type": "markdown",
   "metadata": {},
   "source": [
    "## Yêu cầu:"
   ]
  },
  {
   "cell_type": "markdown",
   "metadata": {},
   "source": [
    "Thiết kế các lớp thích hợp để thực hiện các yêu cầu sau:\n",
    "\n",
    "─ Nhập các chi tiết cho máy.\n",
    "\n",
    "─ Xuất các chi tiết máy.\n",
    "\n",
    "─ Tính trị giá của máy.\n",
    "\n",
    "─ Tìm kiếm một chi tiết máy theo mã số.\n",
    "\n",
    "─ Đếm số lượng chi tiết đơn có trong cái máy (Bài tập về nhà)."
   ]
  },
  {
   "cell_type": "markdown",
   "metadata": {},
   "source": [
    "## Thiết kế lớp sơ bộ\n",
    "\n",
    "- Môt cái máy:\n",
    "  - Chi tiết đơn\n",
    "  - Chi tiết phức\n",
    "\n",
    "- ![Diagram](./image/UngDung_DaXa_ChiTietMay_TK_LopSoBo.png)"
   ]
  },
  {
   "cell_type": "markdown",
   "metadata": {},
   "source": [
    "## Thiết kế lớp chi tiết\n",
    "\n",
    "- ![Diagram](./image/UngDung_DaXa_ChiTietMay_TK_LopChiTiet.png)"
   ]
  },
  {
   "cell_type": "markdown",
   "metadata": {},
   "source": [
    "#### `Bước 1`: Định nghĩa phương thức khởi tạo"
   ]
  },
  {
   "cell_type": "markdown",
   "metadata": {},
   "source": [
    "- Phương thức khởi tạo lớp cha\n",
    "\n",
    "- ![Diagram](./image/UngDung_DaXa_ChiTietMay_KhoiTaoLopCha.png)"
   ]
  },
  {
   "cell_type": "code",
   "execution_count": null,
   "metadata": {},
   "outputs": [],
   "source": [
    "class CChiTiet:\n",
    "    def __init__(self):\n",
    "        self._MaSo = 0 # protected\n"
   ]
  },
  {
   "cell_type": "markdown",
   "metadata": {},
   "source": [
    "- Phương thức khởi tạo lớp con CChiTietDon\n",
    "  - Kế thừa từ lớp cha CChiTiet\n",
    "\n",
    "- ![Diagram](./image/UngDung_DaXa_ChiTietMay_KhoiTaoLopCon_ChiTietDon.png)"
   ]
  },
  {
   "cell_type": "code",
   "execution_count": null,
   "metadata": {},
   "outputs": [],
   "source": [
    "class CChiTietDon(CChiTiet):\n",
    "    def __init__(self):\n",
    "        super().__init__()\n",
    "        self.__GiaTien = 0\n"
   ]
  },
  {
   "cell_type": "markdown",
   "metadata": {},
   "source": [
    "- Phương thức khởi tạo lớp con CCHiTietPhuc\n",
    "  - Kế thừa từ lớp cha CChiTiet\n",
    "\n",
    "- ![Diagram](./image/UngDung_DaXa_ChiTietMay_KhoiTaoLopCon_ChiTietPhuc.png)"
   ]
  },
  {
   "cell_type": "code",
   "execution_count": null,
   "metadata": {},
   "outputs": [],
   "source": [
    "class CChiTietPhuc(CChiTiet):\n",
    "    def __init__(self):\n",
    "        super().__init__()\n",
    "        self.__n = 0\n",
    "        self.__ds = []\n"
   ]
  },
  {
   "cell_type": "markdown",
   "metadata": {},
   "source": [
    "- Phương thức khởi tạo lớp CMay\n",
    "  - Quan hệ một nhiều `(1-n)` với lớp cha CChiTiet\n",
    "\n",
    "- ![Diagram](./image/UngDung_DaXa_ChiTietMay_KhoiTaoLop_CMay.png)"
   ]
  },
  {
   "cell_type": "code",
   "execution_count": null,
   "metadata": {},
   "outputs": [],
   "source": [
    "class CMay:\n",
    "    def __init__(self):\n",
    "        self.__n = 0\n",
    "        self.__ds = []\n"
   ]
  },
  {
   "cell_type": "markdown",
   "metadata": {},
   "source": [
    "#### `Buớc 2`: Đinh nghĩa các phương thức"
   ]
  },
  {
   "cell_type": "markdown",
   "metadata": {},
   "source": [
    "- Định nghĩa các phương thức lớp cha CChiTiet\n",
    "\n",
    "- ![Diagram](./image/UngDung_DaXa_ChiTietMay_KhoiTaoLopCha.png)"
   ]
  },
  {
   "cell_type": "code",
   "execution_count": null,
   "metadata": {},
   "outputs": [],
   "source": [
    "class CChiTiet:\n",
    "    def Nhap(self):\n",
    "        self._MaSo = input(\"Nhap ma so chi tiet: \")\n",
    "\n",
    "    def Xuat(self):\n",
    "        print(\"Ma so chi tiet:\", self._MaSo)\n",
    "\n",
    "    def TinhTien(self):\n",
    "        return 0\n",
    "\n",
    "    def TimKiem(self, ms: str):\n",
    "        if self._MaSo is ms: # dùng is hay là ==\n",
    "            return self\n",
    "        else:\n",
    "            return None\n"
   ]
  },
  {
   "cell_type": "markdown",
   "metadata": {},
   "source": [
    "- Định nghĩa các phương thức lớp con CChiTietDon\n",
    "\n",
    "- ![Diagram](./image/UngDung_DaXa_ChiTietMay_KhoiTaoLopCon_ChiTietDon.png)"
   ]
  },
  {
   "cell_type": "code",
   "execution_count": null,
   "metadata": {},
   "outputs": [],
   "source": [
    "class CChiTietDon(CChiTiet):\n",
    "    def Nhap(self):\n",
    "        super().Nhap()\n",
    "        self.__GiaTien = float(input(\"Nhap gia tien chi tiet don: \"))\n",
    "\n",
    "    def Xuat(self):\n",
    "        print(\"La chi tiet don.\")\n",
    "        super().Xuat()\n",
    "        print(\"Gia tien chi tiet don:\", self.__GiaTien)\n",
    "\n",
    "    def TinhTien(self):\n",
    "        return self.__GiaTien\n",
    "\n",
    "    def TimKiem(self, ms):\n",
    "        return super().TimKiem(ms)\n"
   ]
  },
  {
   "cell_type": "markdown",
   "metadata": {},
   "source": [
    "- Định nghĩa các phương thức lớp con CChiTietPhuc\n",
    "\n",
    "- ![Diagram](./image/UngDung_DaXa_ChiTietMay_KhoiTaoLopCon_ChiTietPhuc.png)"
   ]
  },
  {
   "cell_type": "code",
   "execution_count": null,
   "metadata": {},
   "outputs": [],
   "source": [
    "class CChiTietPhuc(CChiTiet):\n",
    "    def Nhap(self):\n",
    "        super().Nhap()\n",
    "        self.__n = int(input(\"Nhap so luong chi tiet thanh phan: \"))\n",
    "        for _ in range(self.__n):\n",
    "            type = int(input(\"Nhap loai (0. Don, 1. Phuc): \"))\n",
    "            temp = None\n",
    "            if type == 0:\n",
    "                temp = CChiTietDon()\n",
    "            else:\n",
    "                temp = CChiTietPhuc()\n",
    "            temp.Nhap()\n",
    "            self.__ds.append(temp)\n",
    "\n",
    "    def Xuat(self):\n",
    "        print(\"La chi tiet phuc.\")\n",
    "        super().Xuat()\n",
    "        print(\"So luong chi tiet thanh phan cua chi tiet phuc:\", self.__n)\n",
    "        for i,x in enumerate(self.__ds):\n",
    "            print(f\"Chi tiet thanh phan thu {i + 1} cua chi tiet phuc:\", end = ' ')\n",
    "            x.Xuat()\n",
    "\n",
    "    def TinhTien(self):\n",
    "        s = 0\n",
    "        for x in self.__ds:\n",
    "            s += x.TinhTien()\n",
    "        return s\n",
    "\n",
    "    def TimKiem(self, ms: str):\n",
    "        if self._MaSo == ms:\n",
    "            return self\n",
    "        for x in self.__ds:\n",
    "            if x.TimKiem(ms) != None:\n",
    "                return x.TimKiem(ms)\n",
    "        return None\n"
   ]
  },
  {
   "cell_type": "markdown",
   "metadata": {},
   "source": [
    "- Định nghĩa các phương thức lớp CMay\n",
    "\n",
    "- ![Diagram](./image/UngDung_DaXa_ChiTietMay_KhoiTaoLop_CMay.png)"
   ]
  },
  {
   "cell_type": "code",
   "execution_count": null,
   "metadata": {},
   "outputs": [],
   "source": [
    "class CMay:\n",
    "    def __init__(self):\n",
    "        self.__n = 0\n",
    "        self.__ds = []\n",
    "\n",
    "    def Nhap(self):\n",
    "        self.__n = int(input(\"Nhap so luong thanh phan: \"))\n",
    "        for _ in range(self.__n):\n",
    "            temp = None\n",
    "            type = int(input(\"Nhap loai (0. Don, 1. Phuc): \"))\n",
    "            if type == 0:\n",
    "                temp = CChiTietDon()\n",
    "            else:\n",
    "                temp = CChiTietPhuc()\n",
    "            temp.Nhap()\n",
    "            self.__ds.append(temp)\n",
    "\n",
    "    def Xuat(self):\n",
    "        print(\"So luong chi tiet thanh phan cua may:\", self.__n)\n",
    "        for i, x in enumerate(self.__ds):\n",
    "            print(f\"Chi tiet thanh phan thu {i + 1} cua chi tiet may:\", end = ' ')\n",
    "            x.Xuat()\n",
    "\n",
    "    def TinhTien(self):\n",
    "        s = 0\n",
    "        for x in self.__ds:\n",
    "            s += x.TinhTien()\n",
    "        return s\n"
   ]
  },
  {
   "cell_type": "markdown",
   "metadata": {},
   "source": [
    "### Nhập hàm main"
   ]
  },
  {
   "cell_type": "code",
   "execution_count": null,
   "metadata": {},
   "outputs": [],
   "source": [
    "def main():\n",
    "    May = CMay()\n",
    "    print(\"Nhap thong tin may:\")\n",
    "    May.Nhap()\n",
    "    print(\"\\nThong tin cua may:\")\n",
    "    May.Xuat()\n",
    "    gia_tri_may = May.TinhTien()\n",
    "    print(\"Gia tri cua may:\", gia_tri_may)\n",
    "    ma_so_tim_kiem = input(\"Nhap ma so chi tiet may can tim: \")\n",
    "    kq = May.TimKiem(ma_so_tim_kiem)\n",
    "    if kq != None:\n",
    "        print(f\"Tim thay ma chi tiet: {ma_so_tim_kiem} trong may.\")\n",
    "    else:\n",
    "        print(f\"Khong tim thay ma chi tiet {ma_so_tim_kiem} trong may.\")\n"
   ]
  },
  {
   "cell_type": "markdown",
   "metadata": {},
   "source": [
    "### Full source code here\n",
    "- Chạy dòng code phía duới:"
   ]
  },
  {
   "cell_type": "code",
   "execution_count": null,
   "metadata": {},
   "outputs": [],
   "source": [
    "from IPython.display import Markdown, display\n",
    "\n",
    "# Đọc nội dung file\n",
    "with open('./UngDungDaXa_1.py', 'r') as file:\n",
    "    content = file.read()\n",
    "\n",
    "# Hiển thị nội dung dưới dạng Markdown\n",
    "display(Markdown(f'```python\\n{content}\\n```'))\n"
   ]
  }
 ],
 "metadata": {
  "kernelspec": {
   "display_name": "Python (khoibui)",
   "language": "python",
   "name": "khoibui"
  },
  "language_info": {
   "codemirror_mode": {
    "name": "ipython",
    "version": 3
   },
   "file_extension": ".py",
   "mimetype": "text/x-python",
   "name": "python",
   "nbconvert_exporter": "python",
   "pygments_lexer": "ipython3",
   "version": "3.12.3"
  }
 },
 "nbformat": 4,
 "nbformat_minor": 2
}
