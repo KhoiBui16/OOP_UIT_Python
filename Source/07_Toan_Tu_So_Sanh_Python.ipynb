{
 "cells": [
  {
   "cell_type": "markdown",
   "metadata": {},
   "source": [
    "# Chương 8\n",
    "    TOÁN TỬ SO SÁNH – PYTHON"
   ]
  },
  {
   "cell_type": "markdown",
   "metadata": {},
   "source": [
    "## 1. CÁC TOÁN TỬ SO SÁNH CƠ BẢN PYTHON"
   ]
  },
  {
   "cell_type": "markdown",
   "metadata": {},
   "source": [
    "─ Toán tử so sánh `lớn hơn` – greater than `(__gt__)`\n",
    "\n",
    "─ Toán tử so sánh `nhỏ hơn` – less than `(__lt__)`\n",
    "\n",
    "─ Toán tử so sánh `bằng` – equal to `(__eq__)`\n",
    "\n",
    "─ Toán tử so sánh `khác` – not equal to `(__ne__)`\n",
    "\n",
    "─ Toán tử so sánh `lớn hơn bằng` – greater than or equal to `(__ge__)`\n",
    "\n",
    "─ Toán tử so sánh `nhỏ hơn bằng` – less than or equal to `(__le__)`\n"
   ]
  },
  {
   "cell_type": "markdown",
   "metadata": {},
   "source": [
    "## 2. ĐẶT VẤN ĐỀ"
   ]
  },
  {
   "cell_type": "markdown",
   "metadata": {},
   "source": [
    "─ Hãy `định nghĩa các phương thức` cần thiết cho lớp đối tượng CHocSinh để các câu lệnh sau có thể thực thi được"
   ]
  },
  {
   "cell_type": "markdown",
   "metadata": {},
   "source": [
    "─ Đoạn chương trình:  \n",
    "    1. a = CHocSinh()  \n",
    "    2. b = CHocSinh()  \n",
    "    3. a.Nhap()  \n",
    "    4. b.Nhap()  \n",
    "    5. a.XuLy()  \n",
    "    6. b.XuLy()  \n",
    "    7. if (a > b):     \n",
    "    8.    print(\"DTB a lon hon DTB b\")  \n",
    "    9. else:  \n",
    "    10.    print(\"DTB a ko lon hon DTB b\")  \n"
   ]
  },
  {
   "cell_type": "markdown",
   "metadata": {},
   "source": [
    "## Giải quyết vấn đề"
   ]
  },
  {
   "cell_type": "markdown",
   "metadata": {},
   "source": [
    "─ Đoạn chương trình:\n",
    "1. ...\n",
    "2. if (a > b):\n",
    "3. print(\"DTB a lon hon DTB b\")\n",
    "4. else:\n",
    "5. print(\"DTB a ko lon hon DTB b\")"
   ]
  },
  {
   "cell_type": "markdown",
   "metadata": {},
   "source": [
    "─ Để giải quyết vấn đề trên ta phải khai báo và định nghĩa phương\n",
    "thức `toán tử so sánh lớn hơn` cho lớp đối tượng CHocSinh"
   ]
  },
  {
   "cell_type": "code",
   "execution_count": null,
   "metadata": {},
   "outputs": [],
   "source": [
    "class CHocSinh:\n",
    "    def __init__(self):\n",
    "        self.HoTen = \"\"\n",
    "        self.Toan = 0\n",
    "        self.Van = 0\n",
    "        self.DiemTrungBinh = 0\n",
    "\n",
    "    def Nhap(self):\n",
    "        self.HoTen = input(\"Nhap ho ten: \")\n",
    "        self.Toan = int(input(\"Nhap toan: \"))\n",
    "        self.Van = int(input(\"Nhap van: \"))\n",
    "\n",
    "    def Xuat(self):\n",
    "        print(\"Ho ten:\", self.HoTen)\n",
    "        print(\"Diem Toan:\", self.Toan)\n",
    "        print(\"Diem Van:\", self.Van)\n",
    "        print(\"Diem trung binh:\", self.DiemTrungBinh)\n",
    "\n",
    "    def XuLy(self):\n",
    "        self.DiemTrungBinh = (self.Toan + self.Van) / 2\n",
    "        \n",
    "    def __gt__(self, x):\n",
    "        if (self.DiemTrungBinh > x.DiemTrungBinh):\n",
    "            return True\n",
    "        return False\n",
    "\n",
    "    def __lt__(self, x):\n",
    "        if (self.DiemTrungBinh < x.DiemTrungBinh):\n",
    "            return True\n",
    "        return False\n",
    "    \n",
    "    def __ge__(self, x):\n",
    "        if (self.DiemTrungBinh >= x.DiemTrungBinh):\n",
    "            return True\n",
    "        return False\n",
    "    \n",
    "    def __le__(self, x):\n",
    "        if (self.DiemTrungBinh <= x.DiemTrungBinh):\n",
    "            return True\n",
    "        return False\n",
    "    \n",
    "    def __eq__(self, x):\n",
    "        if (self.DiemTrungBinh == x.DiemTrungBinh):\n",
    "            return True\n",
    "        return False\n",
    "    \n",
    "    def __ne__(self, x):\n",
    "        if (self.DiemTrungBinh != x.DiemTrungBinh):\n",
    "            return True\n",
    "        return False\n",
    "\n"
   ]
  },
  {
   "cell_type": "markdown",
   "metadata": {},
   "source": [
    "## 5. HƯỚNG DẪN SỬ DỤNG"
   ]
  },
  {
   "cell_type": "markdown",
   "metadata": {},
   "source": [
    "─ Đoạn chương trình:\n",
    "1. ...\n",
    "2. if (a > b):\n",
    "3. print(\"DTB a lon hon DTB b\")\n",
    "4. else:\n",
    "5. print(\"DTB a ko lon hon DTB b\")\n",
    "\n",
    "─ Trong câu lệnh 2 của đoạn chương trình trên ta nói: `đối tượng a gọi thực hiện phương thức toán tử so sánh lớn hơn với đối số là đối tượng b`.\n"
   ]
  },
  {
   "cell_type": "markdown",
   "metadata": {},
   "source": [
    "## 6. ỨNG DỤNG"
   ]
  },
  {
   "cell_type": "markdown",
   "metadata": {},
   "source": [
    "─Bài toán: Hãy `định nghĩa` các `toán tử so sánh nhỏ hơn` và `toán tử so sánh lớn hơn` cho lớp đối tượng `CPhanSo`."
   ]
  },
  {
   "cell_type": "code",
   "execution_count": null,
   "metadata": {},
   "outputs": [],
   "source": [
    "class CPhanSo:\n",
    "    def __init__(self):\n",
    "        self.Tu = 0\n",
    "        self.Mau = 1\n",
    "\n",
    "    def Nhap(self):\n",
    "        self.Tu = int(input(\"Nhap tu: \"))\n",
    "        self.Mau = int(input(\"Nhap mau: \"))\n",
    "\n",
    "    def Xuat(self):\n",
    "        print(self.Tu, \"/\", self.Mau)\n",
    "\n",
    "    def __lt__(self, x):\n",
    "        a = self.Tu / self.Mau\n",
    "        b = x.Tu / x.Mau\n",
    "        return a < b\n",
    "\n",
    "    def __gt__(self, x):\n",
    "        a = self.Tu / self.Mau\n",
    "        b = x.Tu / x.Mau\n",
    "        return a > b\n"
   ]
  },
  {
   "cell_type": "markdown",
   "metadata": {},
   "source": [
    "## 8. Bài tập"
   ]
  },
  {
   "cell_type": "markdown",
   "metadata": {},
   "source": [
    "─ Bài 01: Hãy định nghĩa tất cả các phương thức toán tử so sánh cho lớp đối tượng `CPhanSo`.\n",
    "\n",
    "─ Bài 02: Hãy định nghĩa tất cả các phương thức toán tử so sánh cho lớp đối tượng `CHonSo`.\n",
    "\n",
    "─ Bài 03: Hãy định nghĩa tất cả các phương thức toán tử so sánh cho lớp đối tượng `CDiem trong mặt phẳng 𝑂𝑥𝑦`. Biết rằng `tiêu chuẩn so sánh` 2 điểm là so sánh theo `khoảng cách tới gốc toạ độ`. Điểm nào ở `xa gốc hơn thì lớn hơn`.\n",
    "\n",
    "─ Bài 04: Hãy định nghĩa toán tử `so sánh bằng` và toán tử `so sánh khác` cho tất cả các đối tượng sau:\n",
    "\n",
    "+ 1. Lớp điểm `(CDiem)`\n",
    "\n",
    "+ 2. Lớp ngày `(CNgay)`\n",
    "\n",
    "+ 3. Lớp thời gian `(CThoiGian)`\n",
    "\n",
    "+ 4. Lớp đơn thức `(CDonThuc)`\n",
    "\n",
    "+ 5. Lớp điểm không gian `(CDiemKhongGian)`\n",
    "\n",
    "+ 6. Lớp đường thẳng `(CDuongThang)`\n",
    "\n",
    "+ 7. Lớp lớp tam giác `(CTamGiac)`\n",
    "\n",
    "+ 8. Lớp hình cầu `(CHinhCau)`\n",
    "\n",
    "─ Bài 05: Hãy định nghĩa tất cả các phương thức toán tử so sánh cho lớp số phức`CSoPhuc` trong toán học. Biết rằng `tiêu chuẩn so sánh` 2 số phức là `so sánh theo mô đun`. `Mô đun` của số phức nào `lớn hơn` thì số phức đó `lớn hơn`.\n",
    "\n",
    "─ Nhắc lại:\n",
    "+ Cho số phức $ z = a + ib $.\n",
    "+ Mô đun của số phức $ \\text{module}(z) $ là: $ |z| = \\sqrt{a^2 + b^2} $.\n",
    "\n",
    "─ Bài 06: Hãy định nghĩa tất cả các phương thức toán tử so sánh cho lớp đường tròn CDuongTron trong toán học. `Biết rằng tiêu chuẩn so sánh 2 đường tròn là so sánh theo diện tích`. Diện tích\n",
    "của đường tròn nào lớn hơn thì đường tròn đó lớn hơn.\n",
    "\n"
   ]
  },
  {
   "cell_type": "markdown",
   "metadata": {},
   "source": [
    "# Cảm ơn quí vị đã lắng nghe.\n",
    "\n",
    "    # Nhóm tác giả TS. Nguyễn Tấn Trần Minh Khang (from Ho Chi Minh University of Information Technology - UIT)\n"
   ]
  }
 ],
 "metadata": {
  "kernelspec": {
   "display_name": "Python (khoibui)",
   "language": "python",
   "name": "khoibui"
  },
  "language_info": {
   "name": "python",
   "version": "3.12.3"
  }
 },
 "nbformat": 4,
 "nbformat_minor": 2
}
