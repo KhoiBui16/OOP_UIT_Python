{
 "cells": [
  {
   "cell_type": "markdown",
   "metadata": {},
   "source": [
    "# Chương 01\n",
    "    ÔN TẬP – PYTHON"
   ]
  },
  {
   "cell_type": "markdown",
   "metadata": {},
   "source": [
    "# 1. Biến Toàn Cục - Python\n",
    "\n",
    "- Khái niệm: Biến toàn cụ (global varible) là biến được khai báo bên ngoài tất cả các hàm và được hiểu bên trong tất cả các hàm.\n"
   ]
  },
  {
   "cell_type": "markdown",
   "metadata": {},
   "source": [
    "#### Bài toán: Viết chương trình nhập họ tên, điểm toán, điểm văn của một học sinh. Tính điểm trung bình và xuất kết quả.\n"
   ]
  },
  {
   "cell_type": "code",
   "execution_count": 2,
   "metadata": {},
   "outputs": [
    {
     "name": "stdout",
     "output_type": "stream",
     "text": [
      "Ho ten: Bui Nhat Anh Khoi\n",
      "Toan: 10.0\n",
      "Van: 9.0\n",
      "Diem trung binh: 9.5\n"
     ]
    }
   ],
   "source": [
    "HoTen = input(\"Nhap ho ten:\")\n",
    "Toan = float(input(\"Nhap toan:\"))\n",
    "Van = float(input(\"Nhap van\"))\n",
    "DiemTrungBinh = (Toan + Van) / 2\n",
    "print(\"Ho ten:\", HoTen)\n",
    "print(\"Toan:\", Toan)\n",
    "print(\"Van:\", Van)\n",
    "print(\"Diem trung binh =\", DiemTrungBinh)\n"
   ]
  },
  {
   "cell_type": "markdown",
   "metadata": {},
   "source": [
    "# 2. Biến cục bộ\n"
   ]
  },
  {
   "cell_type": "markdown",
   "metadata": {},
   "source": [
    "- Khái niệm: Biến cục bộ (local variable) là biến được khai báo và được hiểu bên trong một phạm vi (scope) nào đó của chương trình, ra khỏi phạm vi này biến không còn được biết đến nữa vì không gian bộ nhớ cấp phát cho biến được tự động thu hồi\n"
   ]
  },
  {
   "cell_type": "code",
   "execution_count": 3,
   "metadata": {},
   "outputs": [
    {
     "name": "stdout",
     "output_type": "stream",
     "text": [
      "Ho ten: Nguyen Van A\n",
      "Diem Toan: 10\n",
      "Diem Van: 3\n",
      "Diemtrungbinh= 6.5\n"
     ]
    }
   ],
   "source": [
    "def main():\n",
    "    HoTen = input(\"Nhap ho ten: \")\n",
    "    Toan = int(input(\"NhapdiemToan:\"))\n",
    "    Van = int(input(\"NhapdiemVan:\"))\n",
    "    DiemTrungBinh = (Toan + Van) / 2\n",
    "    print(\"Ho ten:\", HoTen)\n",
    "    print(\"Diem Toan:\", Toan)\n",
    "    print(\"Diem Van:\", Van)\n",
    "    print(\"Diemtrungbinh=\", DiemTrungBinh)\n",
    "\n",
    "\n",
    "if __name__ == \"__main__\":\n",
    "    main()\n"
   ]
  },
  {
   "cell_type": "markdown",
   "metadata": {},
   "source": [
    "# 3. HÀM VÀ BIẾN TOÀN CỤC (Function and global variable)\n"
   ]
  },
  {
   "cell_type": "markdown",
   "metadata": {},
   "source": [
    "#### Bài toán: Viết chương trình nhập họ tên, điểm toán, điểm văn của một học sinh. Tính điểm trung bình và xuất kết quả.\n"
   ]
  },
  {
   "cell_type": "code",
   "execution_count": null,
   "metadata": {},
   "outputs": [],
   "source": [
    "HoTen = None\n",
    "Toan = None\n",
    "Van = None\n",
    "DiemTrungBinh = None\n",
    "\n",
    "\n",
    "def Nhap():\n",
    "    # Biến toàn cục: có từ khóa global phía trước\n",
    "    global HoTen, Toan, Van, DiemTrungBinh\n",
    "    HoTen = input(\"Nhap ho ten: \")\n",
    "    Toan = int(input(\"NhapdiemToan:\"))\n",
    "    Van = int(input(\"NhapdiemVan:\"))\n",
    "\n",
    "\n",
    "def XuLy():\n",
    "    global HoTen, Toan, Van, DiemTrungBinh\n",
    "    DiemTrungBinh = (Toan + Van) / 2\n",
    "\n",
    "\n",
    "def Xuat():\n",
    "    global HoTen, Toan, Van, DiemTrungBinh\n",
    "    print(\"Ho ten:\", HoTen)\n",
    "    print(\"Diem Toan:\", Toan)\n",
    "    print(\"Diem Van:\", Van)\n",
    "    print(\"Diemtrungbinh=\", DiemTrungBinh)\n",
    "\n",
    "\n",
    "def main():\n",
    "    Nhap()\n",
    "    XuLy()\n",
    "    Xuat()\n",
    "\n",
    "\n",
    "if __name__ == \"__main__\":\n",
    "    main()\n"
   ]
  },
  {
   "cell_type": "markdown",
   "metadata": {},
   "source": [
    "# 4. THAM SỐ VÀ HÀM (Parameter and function)\n"
   ]
  },
  {
   "cell_type": "markdown",
   "metadata": {},
   "source": [
    "#### Bài toán: Viết chương trình nhập họ tên, điểm toán, điểm văn của một học sinh. Tính điểm trung bình và xuất kết quả.\n"
   ]
  },
  {
   "cell_type": "code",
   "execution_count": 4,
   "metadata": {},
   "outputs": [],
   "source": [
    "def Nhap():\n",
    "    HoTen = input(\"Nhap ho ten: \")\n",
    "    Toan = int(input(\"Nhap Toan: \"))\n",
    "    Van = int(input(\"NhapVan:\"))\n",
    "    return HoTen, Toan, Van\n",
    "\n",
    "\n",
    "def XuLy(Toan, Van):\n",
    "    DiemTrungBinh = (Toan + Van) / 2\n",
    "    return DiemTrungBinh\n",
    "\n",
    "\n",
    "def Xuat(HoTen, Toan, Van, DiemTrungBinh):\n",
    "    print(\"Ho ten:\", HoTen)\n",
    "    print(\"Diem Toan:\", Toan)\n",
    "    print(\"Diem Van:\", Van)\n",
    "    print(\"Diemtrungbinh=\", DiemTrungBinh)\n",
    "\n",
    "\n",
    "def main():\n",
    "    ht, t, v = Nhap()\n",
    "    dtb = XuLy(t, v)\n",
    "    Xuat(ht, t, v, dtb)\n",
    "\n",
    "\n",
    "if __name__ == \"__main__\":\n",
    "    main()\n"
   ]
  },
  {
   "cell_type": "markdown",
   "metadata": {},
   "source": [
    "# 5. KIỂU CẤU TRÚC\n"
   ]
  },
  {
   "cell_type": "markdown",
   "metadata": {},
   "source": [
    "#### Bài toán: Viết chương trình nhập họ tên, điểm toán, điểm văn của một học sinh. Tính điểm trung bình và xuất kết quả.\n"
   ]
  },
  {
   "cell_type": "code",
   "execution_count": 5,
   "metadata": {},
   "outputs": [
    {
     "name": "stdout",
     "output_type": "stream",
     "text": [
      "Hoten: Nguyễn Văn Anh\n",
      "Diem Toan: 10\n",
      "DiemVan: 3\n",
      "Diemtrungbinh= 6.5\n"
     ]
    }
   ],
   "source": [
    "# Kiểu cấu trúc trong python\n",
    "from collections import namedtuple\n",
    "\n",
    "HocSinh = namedtuple(\"HS\", \"HoTen, Toan, Van,DiemTrungBinh\")\n",
    "\n",
    "\n",
    "def Nhap():\n",
    "    HoTen = input(\"Nhap ho ten: \")\n",
    "    Toan = int(input(\"Nhap Toan: \"))\n",
    "    Van = int(input(\"NhapVan:\"))\n",
    "    x = HocSinh(HoTen, Toan, Van, 0)\n",
    "    return x\n",
    "\n",
    "\n",
    "def XuLy(x):\n",
    "    dtb = (x.Toan + x.Van) / 2\n",
    "    x = x._replace(DiemTrungBinh=dtb)\n",
    "    return x\n",
    "\n",
    "\n",
    "def Xuat(x):\n",
    "    print(\"Hoten:\", x.HoTen)\n",
    "    print(\"Diem Toan:\", x.Toan)\n",
    "    print(\"DiemVan:\", x.Van)\n",
    "    print(\"Diemtrungbinh=\", x.DiemTrungBinh)\n",
    "\n",
    "\n",
    "def main():\n",
    "    hs = Nhap()\n",
    "    hs = XuLy(hs)\n",
    "    Xuat(hs)\n",
    "\n",
    "\n",
    "if __name__ == \"__main__\":\n",
    "    main()\n"
   ]
  },
  {
   "cell_type": "markdown",
   "metadata": {},
   "source": [
    "### Chú ý: Kiểu cấu trúc trong Python\n"
   ]
  },
  {
   "cell_type": "markdown",
   "metadata": {},
   "source": [
    "    1. Bất biến (Immutable): Các đối tượng namedtuple là bất biến (immutable), nghĩa là sau khi chúng được tạo, bạn không thể thay đổi giá trị của các thành viên. Để thay đổi một giá trị, bạn phải tạo một đối tượng mới sử dụng _replace.\n",
    "\n",
    "    2. Tiện lợi: namedtuple cung cấp các phương thức tiện lợi như _replace, _asdict, và _fields.\n",
    "\n",
    "    3. Không có phương thức và hành vi: namedtuple chỉ đơn thuần là một tập hợp các trường (fields), không thể chứa các phương thức hay hành vi (behavior) như các lớp trong Python hoặc C++ struct có thể chứa các phương thức thành viên.\n",
    "\n",
    "    4. Mặc dù namedtuple và struct có nhiều điểm tương đồng về cấu trúc, namedtuple trong Python là bất biến và không thể chứa hành vi (phương thức), trong khi struct trong C++ có thể chứa cả dữ liệu và hành vi.\n"
   ]
  },
  {
   "cell_type": "markdown",
   "metadata": {},
   "source": [
    "# 6. Ứng dụng:\n"
   ]
  },
  {
   "cell_type": "markdown",
   "metadata": {},
   "source": [
    "### Bài 1: Viết chương trình nhập vào một phân số. Rút gọn phân số đó và xuất kết quả.\n"
   ]
  },
  {
   "cell_type": "code",
   "execution_count": 10,
   "metadata": {},
   "outputs": [
    {
     "name": "stdout",
     "output_type": "stream",
     "text": [
      "Phan so truoc khi rut gon: 4 / 2\n",
      "Phan so sau khi rut gon: 2 / 1\n"
     ]
    }
   ],
   "source": [
    "from collections import namedtuple\n",
    "\n",
    "PhanSo = namedtuple(\"PS\", \"Tu, Mau\")\n",
    "\"\"\" \n",
    "    - namedtuple: Là một hàm từ module collections trong Python, được sử dụng để tạo ra các kiểu dữ liệu bất biến có tên các trường. \n",
    "    - namedtuple cho phép bạn tạo các đối tượng giống như các lớp với các thuộc tính có thể truy cập bằng tên trường. \n",
    "    \n",
    "    - 'PS': Đây là tên của kiểu dữ liệu namedtuple. \n",
    "        + Tên này được sử dụng để định danh kiểu dữ liệu namedtuple\n",
    "        + hiển thị trong các thông báo lỗi hoặc khi bạn in ra thông tin của kiểu dữ liệu.\n",
    "        \n",
    "    - 'Tu Mau': \n",
    "        + Đây là danh sách các trường (fields) của namedtuple, được cung cấp dưới dạng chuỗi.\n",
    "        + Các trường này sẽ là các thuộc tính mà mỗi đối tượng của kiểu namedtuple sẽ có. Trong trường hợp này, bạn có hai trường: Tu và Mau.\n",
    "\n",
    "    => Tên kiểu 'PS' không ảnh hưởng đến chức năng của namedtuple. \n",
    "        + mà chỉ cung cấp thông tin nhận dạng kiểu dữ liệu khi bạn làm việc với các đối tượng của kiểu đó namedtuple theo bất kỳ tên nào bạn muốn. \n",
    "        + và điều đó chỉ ảnh hưởng đến cách bạn nhận diện kiểu dữ liệu khi debug hoặc in ra thông tin.Bạn có thể đặt tên kiểu. \n",
    "\"\"\"\n",
    "\n",
    "\n",
    "def Nhap():\n",
    "    tutu = int(input(\"Nhap tu: \"))\n",
    "    maumau = int(input(\"Nhap mau: \"))\n",
    "    x = PhanSo(tutu, maumau)\n",
    "    return x\n",
    "\n",
    "\n",
    "def Xuat(x):\n",
    "    print(x.Tu, \"/\", x.Mau)\n",
    "\n",
    "\n",
    "def ucln(a, b):\n",
    "    a = abs(a)\n",
    "    b = abs(b)\n",
    "    while b > 0:\n",
    "        a = a % b\n",
    "        a, b = b, a\n",
    "    return a\n",
    "\n",
    "\n",
    "def RutGon(x):\n",
    "    uc = ucln(x.Tu, x.Mau)\n",
    "    tutu = x.Tu // uc\n",
    "    maumau = x.Mau // uc\n",
    "    x = x._replace(Tu=tutu, Mau=maumau)\n",
    "    return x\n",
    "\n",
    "\n",
    "def main():\n",
    "    ps = Nhap()\n",
    "    print(\"Phan so truoc khi rut gon:\", end=\" \")\n",
    "    Xuat(ps)\n",
    "    ps = RutGon(ps)\n",
    "    print(\"Phan so sau khi rut gon:\", end=\" \")\n",
    "    Xuat(ps)\n",
    "\n",
    "\n",
    "if __name__ == \"__main__\":\n",
    "    main()\n"
   ]
  },
  {
   "cell_type": "markdown",
   "metadata": {},
   "source": [
    "### Bài 2: Viết chương trình nhập vào tọa độ 2 điểm trong mặt phẳng Oxy. Tính khoảng cách giữa chúng và xuất kết quả\n"
   ]
  },
  {
   "cell_type": "code",
   "execution_count": 11,
   "metadata": {},
   "outputs": [
    {
     "name": "stdout",
     "output_type": "stream",
     "text": [
      "Nhap toa do diem A:\n",
      "Nhap toa do diem B:\n",
      "Diem A: ( 1.0 , 2.0 )\n",
      "Diem B: ( 3.0 , 4.0 )\n",
      "Khoan cach giua 2 diem la: 2.0\n"
     ]
    }
   ],
   "source": [
    "import math\n",
    "from collections import namedtuple\n",
    "\n",
    "Diem = namedtuple(\"D\", \"x, y\")\n",
    "\n",
    "\n",
    "def Nhap():\n",
    "    xx = float(input(\"Nhap hoanh do:\"))\n",
    "    yy = float(input(\"Nhap tung do:\"))\n",
    "    P = Diem(xx, yy)\n",
    "    return P\n",
    "\n",
    "\n",
    "def Xuat(P):\n",
    "    print(\"(\", P.x, \",\", P.y, \")\")\n",
    "\n",
    "\n",
    "def KhoangCach(P, Q):\n",
    "    return math.sqrt((P.x - Q.x) * (P.x - Q.x) + (P.y - Q.y) * (P.y - P.y))\n",
    "\n",
    "\n",
    "def main():\n",
    "    print(\"Nhap toa do diem A:\")\n",
    "    A = Nhap()\n",
    "    print(\"Nhap toa do diem B:\")\n",
    "    B = Nhap()\n",
    "    print(\"Diem A:\", end=\" \")\n",
    "    Xuat(A)\n",
    "    print(\"Diem B:\", end=\" \")\n",
    "    Xuat(B)\n",
    "    print(\"Khoan cach giua 2 diem la:\", KhoangCach(A, B))\n",
    "\n",
    "\n",
    "if __name__ == \"__main__\":\n",
    "    main()\n"
   ]
  },
  {
   "cell_type": "markdown",
   "metadata": {},
   "source": [
    "# Bài tập về nhà:\n",
    "\n",
    "+ Bài 1: Viết chương trình nhập vào một phân số. Hãy cho biết phân số đó là phân số âm hay dương hay bằng không.\n",
    "\n",
    "+ Bài 2: Viết chương trình nhập tọa độ hai điểm trong không gian. Tính khoảng cách giữa chúng và xuất kết quả.\n",
    "\n",
    "+ Bài 3: Viết chương trình nhập vào 2 phân số. Tìm phân số lớn nhất và xuất kết quả.\n",
    "\n",
    "+ Bài 4: Viết chương trình nhập vào hai phân số. Tính tổng, hiệu, tích, thương giữa chúng và xuất kết quả.\n",
    "\n",
    "+ Bài 5: Viết chương trình nhập vào 2 số phức. Tính tổng, hiệu, tích và xuất kết quả.\n",
    "\n",
    "+ Bài 6: Viết chương trình nhập vào một ngày. Tìm ngày kế tiếp và xuất kết quả.\n",
    "\n",
    "+ Bài 7: Viết chương trình nhập vào một ngày. Tìm ngày hôm qua và xuất kết quả.\n",
    "\n",
    "+ Bài 8: Viết chương trình nhập toạ độ 3 đỉnh A,B,C của 1 tam giác trong mặt phẳng Oxy. Tính chu vi, diện tích và tìm tọa độ trọng tâm.\n",
    "\n",
    "+ Bài 9: Viết chương trình nhập tọa tâm và bán kính của một đường tròn. Tính diện tích và chu vi của đường tròn.\n"
   ]
  },
  {
   "cell_type": "markdown",
   "metadata": {},
   "source": [
    "# Cảm ơn quí vị đã lắng nghe.\n",
    "\n",
    "    # Nhóm tác giả TS. Nguyễn Tấn Trần Minh Khang (from Ho Chi Minh University of Information Technology - UIT)\n"
   ]
  }
 ],
 "metadata": {
  "kernelspec": {
   "display_name": "base",
   "language": "python",
   "name": "python3"
  },
  "language_info": {
   "codemirror_mode": {
    "name": "ipython",
    "version": 3
   },
   "file_extension": ".py",
   "mimetype": "text/x-python",
   "name": "python",
   "nbconvert_exporter": "python",
   "pygments_lexer": "ipython3",
   "version": "3.12.4"
  }
 },
 "nbformat": 4,
 "nbformat_minor": 2
}
