{
 "cells": [
  {
   "cell_type": "markdown",
   "metadata": {},
   "source": [
    "# Chương 5\n",
    "    PHƯƠNG THỨC THIẾT LẬP - PHÁ HỦY TRONG PYTHON"
   ]
  },
  {
   "cell_type": "markdown",
   "metadata": {},
   "source": [
    "## 1. MỤC TIÊU\n",
    "─ Hiểu được phương thức thiết lập (constructors) là gì?\n",
    "\n",
    "─ Hiểu được phương thức phá hủy (destructor) là gì?\n"
   ]
  },
  {
   "cell_type": "markdown",
   "metadata": {},
   "source": [
    "## 2. PHƯƠNG THỨC THIẾT LẬP\n"
   ]
  },
  {
   "cell_type": "markdown",
   "metadata": {},
   "source": [
    "    ─ Mục tiêu: Các phương thức thiết lập (constructors) của một lớp đối tượng (class) có nhiệm vụ thiết lập thông tin ban đầu cho các đối tượng thuộc về lớp ngay khi đối tượng được khai báo.\n"
   ]
  },
  {
   "cell_type": "markdown",
   "metadata": {},
   "source": [
    "─ `Các đặc điểm` của phương thức `thiết lập` (constructors):\n",
    "+ Tên phương thức thiết lập trùng với tên lớp.\n",
    "+ Không có giá trị trả về (no return type).\n",
    "+ Được tự động gọi thực hiện ngay khi đối tượng được khai báo.\n",
    "+ Có thể có nhiều phương thức thiết lập trong 1 lớp.\n",
    "+ Trong một quá trình sống của đối tượng thì chỉ có 1 lần duy\n",
    "nhất một phương thức thiết lập được gọi thực hiện mà thôi đó\n",
    "là khi đối tượng ra đời.\n",
    "+ Các phương thức thiết lập của lớp thuộc nhóm các phương thức khởi tạo.\n"
   ]
  },
  {
   "cell_type": "markdown",
   "metadata": {},
   "source": [
    "─ `Phân loại` phương thức `thiết lập`: Ta có thể chia các phương thức thiết lập của một lớp thành `3 nhóm` như sau:\n",
    "\n",
    "+ Phương thức thiết lập `mặc định (default constructor)`:\n",
    "  + Phương thức thiết lập mặc định thiết lập các thông tin ban đầu cho đối tượng thuộc về lớp bằng những giá trị mặc định (do người lập trình quyết định).\n",
    "\n",
    "+ Phương thức thiết lập `sao chép (copy constructor)`:\n",
    "  + Phương thức thiết lập sao chép nhận tham số đầu vào là một đối tượng cùng thuộc về lớp.\n",
    "    + Các thông tin ban đầu của đối tượng sẽ hoàn toàn giống thông tin của đối tượng đối số đầu .\n",
    "    + Ngoài ra, người ta còn nói phương thức thiết lập sao chép được sử dụng để tạo ra đối tượng mới giống hoàn toàn đối tượng đã có sẵn.\n",
    "\n",
    "+ Phương thức thiết lập `nhận tham số đầu vào (user define constructor – parameterized )`:\n",
    "  + Những phương thức thiết lập ko phải là phương thức thiết lập mặc định và phương thức thiết lập sao chép.\n",
    "\n"
   ]
  },
  {
   "cell_type": "markdown",
   "metadata": {},
   "source": [
    "─ `Ý nghĩa` việc sử dụng `phương thức thiết lập`:\n",
    "+ `Khởi  tạo  giá  trị  ban  đầu`  cho  các  đối  tượng  thuộc  về  lớp  `ngay \n",
    "khi các đối tượng được khai báo`.\n",
    "+ `Ép  kiểu`  đối  tượng  từ  lớp  đối  tượng  này  sang  đối  tượng  thuộc \n",
    "lớp đối tượng khác.\n"
   ]
  },
  {
   "cell_type": "markdown",
   "metadata": {},
   "source": [
    "####  Ví dụ minh họa: Hãy định nghĩa phương thức thiết lập mặc định cho lớp đối tượng CPhanSo\n",
    "\n",
    "─ Ví dụ:\n",
    "+ ps = CPhanSo()\n",
    "+ print(ps)\n"
   ]
  },
  {
   "cell_type": "code",
   "execution_count": 3,
   "metadata": {},
   "outputs": [
    {
     "name": "stdout",
     "output_type": "stream",
     "text": [
      "0 / 1\n"
     ]
    }
   ],
   "source": [
    "class CPhanSo:\n",
    "    def __init__(self):\n",
    "        self.Tu = 0\n",
    "        self.Mau = 1\n",
    "    \n",
    "    def __str__(self):\n",
    "        return f\"{self.Tu} / {self.Mau}\"\n",
    "    \n",
    "def main():\n",
    "    ps = CPhanSo()\n",
    "    print(ps)\n",
    "    \n",
    "if __name__ == \"__main__\":\n",
    "    main()\n"
   ]
  },
  {
   "cell_type": "markdown",
   "metadata": {},
   "source": [
    "─ Hãy định nghĩa phương thức thiết lập cho lớp đối tượng \n",
    "CPhanSo  khi  biết  thông  tin  của  tử  số  và  mẫu  số  lấy  mặc  định  là \n",
    "một.\n",
    "\n",
    "─ Ví dụ:\n",
    "+ ps = CPhanSo(7)\n",
    "+ print(ps)\n"
   ]
  },
  {
   "cell_type": "code",
   "execution_count": 6,
   "metadata": {},
   "outputs": [
    {
     "name": "stdout",
     "output_type": "stream",
     "text": [
      "7 / 1\n"
     ]
    }
   ],
   "source": [
    "class CPhanSo:\n",
    "    def __init__(self, tutu):\n",
    "        self.Tu = tutu\n",
    "        self.Mau = 1\n",
    "        \n",
    "    def __str__(self):\n",
    "        return f\"{self.Tu} / {self.Mau}\"\n",
    "    \n",
    "def main():\n",
    "    ps = CPhanSo(7)\n",
    "    print(ps)\n",
    "    \n",
    "if __name__ == \"__main__\":\n",
    "    main()\n"
   ]
  },
  {
   "cell_type": "markdown",
   "metadata": {},
   "source": [
    "─ Hãy  định  nghĩa  phương  thức  thiết  lập  khi  biết  đầy  đủ  thông  tin \n",
    "cho lớp đối tượng CPhanSo.\n",
    "\n",
    "─ Ví dụ:\n",
    "\n",
    "+ ps = CPhanSo(2, 3)\n",
    "+ print(ps)"
   ]
  },
  {
   "cell_type": "code",
   "execution_count": 7,
   "metadata": {},
   "outputs": [
    {
     "name": "stdout",
     "output_type": "stream",
     "text": [
      "2 / 3\n"
     ]
    }
   ],
   "source": [
    "class CPhanSo:\n",
    "    def __init__(self, tutu, maumau):\n",
    "        self.Tu = tutu\n",
    "        self.Mau = maumau\n",
    "        \n",
    "    def __str__(self):\n",
    "        return f\"{self.Tu} / {self.Mau}\"\n",
    "    \n",
    "def main():\n",
    "    ps = CPhanSo(2, 3)\n",
    "    print(ps)\n",
    "    \n",
    "if __name__ == \"__main__\":\n",
    "    main()\n"
   ]
  },
  {
   "cell_type": "markdown",
   "metadata": {},
   "source": [
    "─ Hãy định nghĩa phương thức thiết lập cho lớp đối tượng \n",
    "CPhanSo để có thể thiết lập thông tin ban đầu cho các đối tượng \n",
    "thuộc về lớp theo các dạng thức như sau:\n",
    "+ Thiết lập mặc định.\n",
    "+ Thiết lập khi biết thông tin tử, mẫu lấy mặc định.\n",
    "+ Thiết lập khi biết đầy đủ thông tin.\n"
   ]
  },
  {
   "cell_type": "code",
   "execution_count": 9,
   "metadata": {},
   "outputs": [
    {
     "name": "stdout",
     "output_type": "stream",
     "text": [
      "0 / 1\n",
      "7 / 1\n",
      "4 / 5\n"
     ]
    }
   ],
   "source": [
    "class CPhanSo:\n",
    "    def __init__(self, tutu = 0, maumau = 1):\n",
    "        self.Tu = tutu\n",
    "        self.Mau = maumau\n",
    "\n",
    "    def __str__(self):\n",
    "        return f\"{self.Tu} / {self.Mau}\"\n",
    "    \n",
    "def main():\n",
    "    ps1 = CPhanSo()\n",
    "    print(ps1)\n",
    "    ps2 = CPhanSo(7)\n",
    "    print(ps2)\n",
    "    ps3 = CPhanSo(4, 5)\n",
    "    print(ps3)\n",
    "\n",
    "if __name__ == \"__main__\":\n",
    "    main()\n"
   ]
  },
  {
   "cell_type": "markdown",
   "metadata": {},
   "source": [
    "## 3. PHƯƠNG THỨC PHÁ HỦY"
   ]
  },
  {
   "cell_type": "markdown",
   "metadata": {},
   "source": [
    "─ `Mục tiêu`:  Phương  thức  phá  hủy  (destructor)  của  một  lớp  có nhiệm vụ dọn dẹp `xác chết` của đối tượng khi đối tượng `đi bán muối`. \n",
    "\n",
    "Nói một cách khác, phương thức phá hủy có nhiệm vụ `thu hồi  lại  tất  cả  các  tài  nguyên  đã  cấp  phát` cho  đối  tượng  khi  đối tượng `hết phạm vi hoạt động (scope)`.\n"
   ]
  },
  {
   "cell_type": "markdown",
   "metadata": {},
   "source": [
    "─`Đặc điểm` của phương thức phá hủy:\n",
    "\n",
    "+ `Tên` phương thức `trùng với tên lớp` nhưng `có dấu ngã ở đằng trước`.\n",
    "+ `Không` có giá trị trả về.\n",
    "+ Không có tham số đầu vào.\n",
    "+ Được tự động gọi thực hiện khi đối tượng hết phạm vi sử dụng.\n",
    "+ Phương thức phá hủy thuộc nhóm các phương thức xử lý.\n",
    "+ Có và chỉ có duy nhất một phương thức phá hủy trong 1 lớp.\n",
    "+ Trong  một  quá  trình  sống  của  đối  tượng  có  và  chỉ  có  một  lần \n",
    "phương thức phá hủy được gọi thực hiện mà thôi.\n"
   ]
  },
  {
   "cell_type": "markdown",
   "metadata": {},
   "source": [
    "─ `Ví dụ minh họa`: Hãy định nghĩa phương thức phá hủy cho lớp đối tượng CPhanSo.\n",
    "\n",
    "─ Phương thức phá hủy của một lớp đối tượng trong python được \n",
    "định nghĩa thông qua một phương thức đặc biệt `__del__`\n"
   ]
  },
  {
   "cell_type": "code",
   "execution_count": 10,
   "metadata": {},
   "outputs": [],
   "source": [
    "class CPhanSo:\n",
    "    def __del__(self):\n",
    "        print(\"CPhanSo's Destructor called\")\n"
   ]
  },
  {
   "cell_type": "markdown",
   "metadata": {},
   "source": [
    "## 3. BÀI TẬP"
   ]
  },
  {
   "cell_type": "markdown",
   "metadata": {},
   "source": [
    "─ Hãy  định  nghĩa  phương  thức  thiết  lập  và  phương  thức  phá  hủy \n",
    "cho các lớp đối tượng sau:\n",
    "\n",
    "    1. Lớp điểm (CDiem).\n",
    "    2. Lớp điểm không gian (CDiemKhongGian).\n",
    "    3. Lớp phân số (CPhanSo).\n",
    "    4. Lớp hỗn số (CHonSo).\n",
    "    5. Lớp số phức (CSoPhuc).\n",
    "    6. Lớp ngày (CNgay).\n",
    "    7. Lớp thời gian (CThoiGian).\n",
    "    8. Lớp đơn thức (CDonThuc).\n",
    "    9. Lớp đường thẳng (CDuongThang) trong mặt phẳng 𝑂𝑥𝑦.\n",
    "    10.Lớp đường tròn (CDuongTron) trong mặt phẳng 𝑂𝑥𝑦.\n",
    "    11.Lớp tam giác (CTamGiac) trong mặt phẳng 𝑂𝑥𝑦.\n",
    "    12.Lớp hình cầu (CHinhCau) trong không gian 𝑂𝑥𝑦𝑧.\n",
    "\n"
   ]
  },
  {
   "cell_type": "markdown",
   "metadata": {},
   "source": [
    "# Cảm ơn quí vị đã lắng nghe.\n",
    "\n",
    "    # Nhóm tác giả TS. Nguyễn Tấn Trần Minh Khang (from Ho Chi Minh University of Information Technology - UIT)\n"
   ]
  }
 ],
 "metadata": {
  "kernelspec": {
   "display_name": "Python (khoibui)",
   "language": "python",
   "name": "khoibui"
  },
  "language_info": {
   "codemirror_mode": {
    "name": "ipython",
    "version": 3
   },
   "file_extension": ".py",
   "mimetype": "text/x-python",
   "name": "python",
   "nbconvert_exporter": "python",
   "pygments_lexer": "ipython3",
   "version": "3.12.3"
  }
 },
 "nbformat": 4,
 "nbformat_minor": 2
}
