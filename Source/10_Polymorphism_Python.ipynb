{
 "cells": [
  {
   "cell_type": "markdown",
   "metadata": {},
   "source": [
    "# Polymorism Python"
   ]
  },
  {
   "cell_type": "markdown",
   "metadata": {},
   "source": [
    "## Nguyên lý Đa xa"
   ]
  },
  {
   "cell_type": "markdown",
   "metadata": {},
   "source": [
    "### Qui tắc 1:\n",
    "\n",
    "- Con trỏ đối tượng khi gọi thực hiện một phương thức, nếu phương đó là phương thức không ảo thì nó sẽ gọi thực hiện phương thức của lớp đối tượng mà con trỏ thuộc về.\n"
   ]
  },
  {
   "cell_type": "markdown",
   "metadata": {},
   "source": [
    "### Qui tắc 2:\n",
    "\n",
    "- Con trỏ đối tượng khi gọi thực hiện một phương thức, nếu phương thức đó là phương thức ảo thì chương trình sẽ xem xét xem con trỏ đối tượng đang giữ địa chỉ của đối tượng thuộc về lớp đối tượng nào và chương trình sẽ gọi thực hiện phương thức của lớp đối tượng đó"
   ]
  },
  {
   "cell_type": "markdown",
   "metadata": {},
   "source": [
    "## Lý thuyết đa xạ\n"
   ]
  },
  {
   "cell_type": "markdown",
   "metadata": {},
   "source": [
    "─ `Khái niệm`: Đa xạ là `cơ chế tầm vực động (dynamic scope)` cho phép `\"xác định\"` `đúng hành vi` (phương thức – method) của `đốitượng` (object) `khi yêu cầu thực hiện`. \n",
    "\n",
    "─ Việc \"xác định\" được thực hiện theo `nguyên tắc tự nhiên`: con trỏ đối tượng đang giữ địa chỉ của đối tượng thuộc về lớp nào thì nó sẽ gọi thực hiện phương thức của lớp  tượng (class) đó.\n",
    "\n",
    "─ `Tầm vực động (dynamic scope)` là `cơ chế gọi thực hiện phương thức thông qua con trỏ đối tượng`.\n",
    "\n",
    "─ Một phương thức được khai báo bắt đầu với từ khóa virtual thì được gọi là phương  ảo và phương thức này được gọi thực hiện theo cơ chế đa xạ nếu lời gọi thực hiện  thức được thông qua một con trỏ đối tượng.\n",
    "\n",
    "─ Các phương thức ở lớp dẫn xuất cùng tên và cùng danh sách tham số đầu vào thì cũng  là phương thức ảo nếu ở lớp cơ sở phương thức cùng tên và cùng tham số là phương thức.\n",
    "\n"
   ]
  },
  {
   "cell_type": "markdown",
   "metadata": {},
   "source": [
    "# Cảm ơn quí vị đã lắng nghe.\n",
    "\n",
    "    # Nhóm tác giả TS. Nguyễn Tấn Trần Minh Khang (from Ho Chi Minh University of Information Technology - UIT)\n"
   ]
  }
 ],
 "metadata": {
  "language_info": {
   "name": "python"
  }
 },
 "nbformat": 4,
 "nbformat_minor": 2
}
