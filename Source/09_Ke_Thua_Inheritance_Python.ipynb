{
 "cells": [
  {
   "cell_type": "markdown",
   "metadata": {},
   "source": [
    "# \n"
   ]
  },
  {
   "cell_type": "markdown",
   "metadata": {},
   "source": [
    "# Chương 10 KẾ THỪA – INHERITANCE – PYTHON"
   ]
  },
  {
   "cell_type": "markdown",
   "metadata": {},
   "source": [
    "## 1. Mục tiêu\n"
   ]
  },
  {
   "cell_type": "markdown",
   "metadata": {},
   "source": [
    "─ Hiểu được các `loại quan hệ`?\n",
    "\n",
    "─ Hiểu được `kế thừa` trong lập trình hướng đối tượng  `(object – oriented programming)` là gì?\n",
    "\n",
    "─ Hiểu được `khái niệm cây kế thừa`.\n",
    "\n",
    "─ Hiểu được `khái niệm sơ đồ lớp`."
   ]
  },
  {
   "cell_type": "markdown",
   "metadata": {},
   "source": [
    "## 2. Quan hệ"
   ]
  },
  {
   "cell_type": "markdown",
   "metadata": {},
   "source": [
    "Người ta `chia các quan hệ thành những loại` như sau:\n",
    "\n",
    "─ Quan hệ `một một` (1–1).\n",
    "\n",
    "─ Quan hệ `một nhiều` (1–n).\n",
    "\n",
    "─ Quan hệ `nhiều nhiều` (m–n).\n",
    "\n",
    "─ Quan hệ `đặc biệt hóa`, `tổng quát hóa`.\n"
   ]
  },
  {
   "cell_type": "markdown",
   "metadata": {},
   "source": [
    "### 2.1 Quan hệ một một `(1-1)`"
   ]
  },
  {
   "cell_type": "markdown",
   "metadata": {},
   "source": [
    "─ `Khái niệm`: Hai lớp đối tượng được gọi là `quan hệ một-một` với nhau khi một đối tượng thuộc lớp này `quan hệ` với một đối tượng thuộc lớp kia và một đối tượng thuộc lớp kia `quan hệ duy nhất` với một đối tượng thuộc lớp này.\n",
    "\n",
    "- Hình vẽ:  $ \\boxed{A} \\overset{\\text{quan hệ}}{\\text{---------}} \\boxed{B} $\n",
    "\n",
    "─ Trong hình vẽ trên ta nói: một đối tượng thuộc lớp A quan hệ với một đối tượng thuộc lớp B và một đối tượng lớp B `quan hệ duy nhất` với một đối tượng thuộc lớp A\n"
   ]
  },
  {
   "cell_type": "markdown",
   "metadata": {},
   "source": [
    "─ `Ví dụ 01`: Xét ngữ cảnh trường PTTH Bạch Thái Bưởi thuộc quận Hồ Hoàn Kiếm thành phố Hà Nội trong niên khóa 2018 – 2019:\n",
    "\n",
    "─ Hình vẽ:  $ \\boxed{CLopHoc} \\overset{\\text{Chủ nhiệm}}{\\text{-----------}} \\boxed{CGiaoVien} $\n",
    "\n",
    "─ Trong  hình  vẽ  trên  ta  nói:  một  đối  tượng  thuộc  lớp CLopHoc  có quan  hệ Chủ nhiệm  với  một  đối  tượng  thuộc  lớp CGiaoVien  và ngược  lại  một  đối  tượng  thuộc  lớp CGiaoVien  có  quan  hệ Chủ nhiệm với `duy nhất` một đối tượng thuộc lớp CLopHoc"
   ]
  },
  {
   "cell_type": "markdown",
   "metadata": {},
   "source": [
    "─ `Ví  dụ  02`:  Xét  ngữ  cảnh  nước  Cộng  Hòa  Xã  Hội  Chủ  Nghĩa  Việt \n",
    "Nam, theo hiến pháp và pháp luật tại thời điểm 2019:\n",
    "\n",
    "─ Hình vẽ:  $ \\boxed{CVo} \\overset{\\text{Hôn nhân}}{\\text{-----------}} \\boxed{CChong} $\n",
    "\n",
    "─ Trong hình vẽ trên ta nói: một đối tượng thuộc lớp CVo có quan hệ Hôn nhân  với  một  đối  tượng  thuộc  lớp CChong  và  ngược  lại  một  đối  tượng  thuộc  lớp CChong  có  quan  hệ Hôn nhân  với  `duy  nhất` một đối tượng thuộc lớp CVo."
   ]
  },
  {
   "cell_type": "markdown",
   "metadata": {},
   "source": [
    "### 2.2 Quan hệ một nhiều `(1-n)`"
   ]
  },
  {
   "cell_type": "markdown",
   "metadata": {},
   "source": [
    "─ `Khái niệm`: Hai lớp đối tượng được gọi là `quan hệ một nhiều với nhau` khi một đối tượng thuộc lớp này `quan hệ với nhiều` đối tượng thuộc lớp kia và một đối tượng lớp kia `quan hệ duy nhất` với một đối tượng thuộc lớp này.\n",
    "\n",
    "\n",
    "- Hình vẽ: $ \\boxed{A} \\overset{\\text{quan hệ}}{\\text{----------}}\\!\\!{\\bullet} \\boxed{B} $\n",
    "\n",
    "\n",
    "─ Trong hình vẽ trên ta nói: một đối tượng thuộc lớp A `quan hệ với nhiều` đối tượng thuộc lớp B và một đối tượng lớp B `có quan hệ duy nhất` với một đối tượng thuộc lớp A. A BQuan hệ\n",
    "\n",
    "\n",
    "\n"
   ]
  },
  {
   "cell_type": "markdown",
   "metadata": {},
   "source": [
    "─ `Ví dụ 01`: Xét ngữ cảnh trường PTTH Bạch Thái Bưởi trong niên \n",
    "khóa 2018 – 2019.\n",
    "\n",
    "- Hình vẽ: $ \\boxed{CLopHoc} \\overset{\\text{Theo học}}{\\text{----------}}\\!\\!{\\bullet} \\boxed{CHocSinh} $\n",
    "\n",
    "─ Trong  hình  vẽ  trên  ta  nói:  một  đối  tượng  thuộc  lớp CLopHoc  `có quan  hệ theo học  với  nhiều`  đối  tượng  thuộc  lớp CHocSinh  và ngược lại một đối tượng thuộc lớp CHocSinh `có quan hệ theo học với duy nhất` một đối tượng thuộc lớp CLopHoc. \n"
   ]
  },
  {
   "cell_type": "markdown",
   "metadata": {},
   "source": [
    "─ `Ví dụ 02`: Xét ngữ cảnh quả đất.\n",
    "\n",
    "- Hình vẽ: $ \\boxed{CCha} \\overset{\\text{Huyết thống}}{\\text{-------------}}\\!\\!{\\bullet} \\boxed{CCon} $\n",
    "\n",
    "─ Trong hình vẽ trên ta nói: một đối tượng thuộc lớp CCha `có quan hệ huyết thống với nhiều` đối tượng thuộc lớp CCon và ngược lại một  đối  tượng  thuộc  lớp CCon  `có  quan  hệ huyết thống  với  duy nhất` một đối tượng thuộc lớp CCha. \n"
   ]
  },
  {
   "cell_type": "markdown",
   "metadata": {},
   "source": [
    "### 2.2 Quan hệ nhiều nhiều `(m-n)`"
   ]
  },
  {
   "cell_type": "markdown",
   "metadata": {},
   "source": [
    "─ `Khái niệm`: hai lớp đối tượng được gọi là `quan hệ nhiều-nhiều` với nhau khi một đối tượng thuộc lớp này `quan hệ với nhiều` đối tượng thuộc lớp kia và một đối tượng lớp kia `cũng có quan hệ với nhiều` đối tượng thuộc lớp này.\n",
    "\n",
    "─ Hình vẽ: $ \\boxed{A} \\!{\\bullet}\\overset{\\text{quan hệ}}{\\text{---------}}\\!\\!{\\bullet}\\boxed{B} $\n",
    "\n",
    "\n",
    "─ Trong hình vẽ trên ta nói: một đối tượng thuộc lớp A `quan hệ với nhiều` đối tượng thuộc lớp B và một đối tượng lớp B `cũng có quan hệ với nhiều` đối tượng thuộc lớp A."
   ]
  },
  {
   "cell_type": "markdown",
   "metadata": {},
   "source": [
    "─ `Ví dụ 01`: Xét ngữ cảnh quả đất từ hồi nẩm đến bi chừ.\n",
    "\n",
    "─ Hình vẽ: $ \\boxed{CNam} \\!{\\bullet}\\overset{\\text{yêu}}{\\text{---------}}\\!\\!{\\bullet}\\boxed{CNu} $\n",
    "\n",
    "─ Trong hình vẽ trên ta nói: một đối tượng thuộc lớp CNam `quan hệ yêu với nhiều` đối tượng thuộc lớp CNu và một đối tượng lớp CNu `cũng có quan hệ yêu với nhiều` đối tượng thuộc lớp CNam."
   ]
  },
  {
   "cell_type": "markdown",
   "metadata": {},
   "source": [
    "─ `Ví dụ 02`: Xét ngữ cảnh quả đất từ hồi ấy đến hồi này.\n",
    "\n",
    "─ Hình vẽ: $ \\boxed{CBacSi} \\!{\\bullet}\\overset{\\text{khám bệnh}}{\\text{---------}}\\!\\!{\\bullet}\\boxed{CBenhNhan} $\n",
    "\n",
    "\n",
    "─ Trong hình vẽ trên ta nói: một đối tượng thuộc lớp CBacSi `quan hệ khám bệnh  với nhiều` đối tượng thuộc lớp CBenhNhan  và một đối tượng lớp CBenhNhan `cũng có quan hệ khám bệnh với nhiều`\n",
    "đối tượng thuộc lớp CBacSi.\n",
    "\n"
   ]
  },
  {
   "cell_type": "markdown",
   "metadata": {},
   "source": [
    "### 2.2 Quan hệ dặc biệt - tổng quát hóa `(m-n)`"
   ]
  },
  {
   "cell_type": "markdown",
   "metadata": {},
   "source": [
    "─ `Khái niệm`: Hai lớp đối tượng được gọi là `quan hệ đặc biệt hóa – tổng quát hóa với nhau` khi, lớp đối tượng này là `trường hợp đặc biệt` của lớp đối tượng kia và lớp đối tượng kia là `trường hợp tổng quát` của lớp đối tượng này.\n",
    "\n",
    "- Hình vẽ: \n",
    "\n",
    "![Diagram](./image/Đặt%20biệt%20-%20Tổng%20quát%20hóa.png)\n",
    "\n",
    "\n",
    "─ Trong hình vẽ trên ta nói: lớp đối tượng B là `trường hợp đặc biệt` của lớp đối tượng A và lớp đối tượng A là `trường hợp tổng quát` của lớp đối tượng B.\n",
    "\n",
    "\n",
    "\n",
    "\n"
   ]
  },
  {
   "cell_type": "markdown",
   "metadata": {},
   "source": [
    "- Hình vẽ: \n",
    "\n",
    "![Diagram](./image/Đặt%20biệt%20-%20Tổng%20quát%20hóa.png%20-%20VD1.png) \n",
    "\n",
    "─ Trong hình vẽ trên ta nói:\n",
    "\n",
    "+ lớp đối tượng CTamGiacCan là `trường hợp đặc biệt` của lớp đối tượng CTamGiac và \n",
    "\n",
    "+ lớp đối tượng CTamGiac là `trường hợp tổng quát` của lớp đối tượng CTamGiacCan"
   ]
  },
  {
   "cell_type": "markdown",
   "metadata": {},
   "source": [
    "- Hình vẽ: \n",
    "\n",
    "![Diagram](./image/Đặc%20biệt%20tổng%20quát%20hóa%20-%20VD2.png)\n",
    "\n",
    "\n",
    "─ Trong hình vẽ trên ta nói:\n",
    "\n",
    "+ lớp đối tượng CNguoi và lớp đối tượng CHeo là `trường hợp đặc biệt` của lớp\n",
    "đối tượng CDongVat và\n",
    "\n",
    "+ lớp đối tượng CDongVat là `trường hợp tổng quát` của lớp đối tượng CNguoi và\n",
    "lớp đối tượng CHeo.\n"
   ]
  },
  {
   "cell_type": "markdown",
   "metadata": {},
   "source": [
    "## Cây Kế Thừa"
   ]
  },
  {
   "cell_type": "markdown",
   "metadata": {},
   "source": [
    "─ `Khái niệm`: Cây kế thừa là `một cây đa nhánh` thể hiện `mối quan hệ đặc biệt hóa-tổng quát` hóa giữa các lớp trong hệ thống, trong chương trình."
   ]
  },
  {
   "cell_type": "markdown",
   "metadata": {},
   "source": [
    "─ Ví dụ: Hãy `vẽ cây kế thừa` cho các lớp đối tượng sau:\n",
    "\n",
    "    + Lớp CXeLam   \n",
    "    + Lớp CXe  \n",
    "    + Lớp CXeBaBanh  \n",
    "    + Lớp CXeBonBanh  \n",
    "    + Lớp CXeXichLo  \n",
    "    + Lớp CXeDap  \n",
    "    + Lớp CXeGanMay  \n",
    "    + Lớp CXeHoi  \n",
    "    + Lớp CXeHaiBanh  \n",
    "    + Lớp CXeTaiNhe  \n"
   ]
  },
  {
   "cell_type": "markdown",
   "metadata": {},
   "source": [
    "- `Cây kế thừa` trong ví dụ trên:\n",
    "\n",
    "![Diagram](./image/Cây%20kế%20thừa.png)\n"
   ]
  },
  {
   "cell_type": "markdown",
   "metadata": {},
   "source": [
    "## 4. Sơ đồ lớp"
   ]
  },
  {
   "cell_type": "markdown",
   "metadata": {},
   "source": [
    "─ `Khái niệm`: Sơ đồ lớp là `sơ đồ thể hiện tất cả các mối quan hệ giữa các lớp` trong hệ thống, trong chương trình"
   ]
  },
  {
   "cell_type": "markdown",
   "metadata": {},
   "source": [
    "─ Xét  ngữ  cảnh  trường  PTTH  Bạch  Đằng  trong  niên  học  2019-2020. Hãy vẽ sơ đồ lớp cho  lớp đối tượng sau:\n",
    "\n",
    "+ Lớp CNhanVien: tất cả những nhân viên làm việc trong trường.\n",
    "+ Lớp  CCongNhanVien:  là  các  nhân  viên làm  việc  trong  nhà  trường  nhưng  ko trực  tiếp  đứng  lớp.  \n",
    "  + Ví  dụ:  Bảo  vệ,  lao công, bảo mẫu.\n",
    "+ Lớp CGiaoVien\n",
    "+ Lớp CHocSinh\n",
    "+ Lớp CLopHoc\n",
    "+ Lớp CMonHọc\n",
    "+ Lớp CNhanVien\n",
    "+ Lớp CCongNhanVien\n",
    "\n"
   ]
  },
  {
   "cell_type": "markdown",
   "metadata": {},
   "source": [
    "- `Sơ đồ Lớp` ví dụ trên:\n",
    "\n",
    "![Diagram](./image/Sơ%20đồ%20lớp.png)"
   ]
  },
  {
   "cell_type": "markdown",
   "metadata": {},
   "source": [
    "## 5. ĐIỀU KHIỂN TRUY XUẤT\n",
    "    Access control\n"
   ]
  },
  {
   "cell_type": "markdown",
   "metadata": {},
   "source": [
    "─ Một `thuộc tính` hay `một phương thức` khi được khai báo trong một lớp ta có thể khai báo trong `3 phạm vi` khác nhau: \n",
    "+ `private`, \n",
    "+ `public`\n",
    "+ `protected`."
   ]
  },
  {
   "cell_type": "markdown",
   "metadata": {},
   "source": [
    "- `Ví dụ 1`:\n",
    "\n",
    "![Diagram](./image/Điều%20khiển%20truy%20xuất%20VD1.png)"
   ]
  },
  {
   "cell_type": "markdown",
   "metadata": {},
   "source": [
    "- `Ví dụ 2`:\n",
    "\n",
    "![Diagram](./image/Điều%20khiển%20truy%20xuất%20ví%20dụ%202.png)"
   ]
  },
  {
   "cell_type": "markdown",
   "metadata": {},
   "source": [
    "## 6. Kế thừa – INHERITANCE\n"
   ]
  },
  {
   "cell_type": "markdown",
   "metadata": {},
   "source": [
    "### Trong thế giới thực\n",
    "\n",
    "- Hình vẽ:\n",
    "\n",
    "![Diagram](./image/Đặt%20biệt%20-%20Tổng%20quát%20hóa.png)\n",
    "\n",
    "─ Trong  hình  vẽ  trên  ta  nói A  và B  `có  quan  hệ  đặc  biệt  hoá,  tổng \n",
    "quát hoá với nhau`.\n",
    "\n",
    "─ Trong đó B là `trường hợp đặt biệt của A` và `A là trường hợp tổng quát của B`"
   ]
  },
  {
   "cell_type": "markdown",
   "metadata": {},
   "source": [
    "- Hình vẽ:\n",
    "\n",
    "![Diagram](./image/Đặt%20biệt%20-%20Tổng%20quát%20hóa.png)\n",
    "\n",
    "─ Xét khai báo. \n",
    "1. class A:\n",
    "2. ...\n",
    "3. class `B(A)`:\n",
    "4. ...\n",
    "\n",
    "\n",
    "\n",
    "> Khai báo trên ta nói `lớp đối tượng B kế thừa từ lớp đối tượng A`. \n",
    "\n",
    "─ Lớp đối tượng A được gọi là `lớp cơ sở`. \n",
    "\n",
    "─ Lớp đối tượng B được gọi là `lớp dẫn xuất` từ lớp đối tượng A.\n"
   ]
  },
  {
   "cell_type": "markdown",
   "metadata": {},
   "source": [
    "─ `Ví dụ 01`: Khai báo lớp tam giác `(CTamGiac)` và lớp tam giác cân `(CTamGiacCan)`\n",
    "\n",
    "- Hình vẽ:\n",
    "\n",
    "![Diagram](./image/Ví%20dụ%20kết%20thừa%201.png)\n",
    "\n",
    "1. class CTamGiac:\n",
    "2. ...\n",
    "3. class `CTamGiacCan(CTamGiac)`:\n",
    "4. ...\n",
    "\n",
    "> Dòng số 3 ta nói lớp `đối tượng CTamGiacCan kế thừa từ lớp đối tượng CTamGiac`."
   ]
  },
  {
   "cell_type": "markdown",
   "metadata": {},
   "source": [
    "─ `Ví dụ 02`: Khai báo lớp `động vật`, lớp `heo` và lớp `người`.\n",
    "\n",
    "- Hình vẽ:\n",
    "\n",
    "![Diagram](./image/Ví%20dụ%20kế%20thừa%202.png)\n",
    "\n",
    "1. class CDongVat:\n",
    "2. ...\n",
    "3. `class CHeo(CDongVat)`:\n",
    "> Dòng số 3 ta nói lớp đối tượng CHeo kế thừa từ lớp đối tượng CDongVat\n",
    "4. ...\n",
    "5. `class CNguoi(CDongVat)`:\n",
    "> Dòng số 5 ta nói lớp đối tượng CNguoi kế thừa từ lớp CDongVat\n",
    "6. ...\n",
    "\n",
    "\n",
    "\n",
    "\n"
   ]
  },
  {
   "cell_type": "markdown",
   "metadata": {},
   "source": [
    "## 7. QUI TẮC KẾ THỪA\n"
   ]
  },
  {
   "cell_type": "markdown",
   "metadata": {},
   "source": [
    "─ `Lớp con` có thể `sử dụng toàn bộ dữ liệu` khai báo ở mức độ `protected` và `public` ở `lớp cha` \n",
    "\n",
    "─ Riêng với `private` thì `không được`, vì đó là `mức độ bảo mật cao nhất`, chỉ sử dụng bên trong `nội bộ` của `lớp cha`."
   ]
  },
  {
   "cell_type": "markdown",
   "metadata": {},
   "source": [
    "# Cảm ơn quí vị đã lắng nghe.\n",
    "\n",
    "    # Nhóm tác giả TS. Nguyễn Tấn Trần Minh Khang (from Ho Chi Minh University of Information Technology - UIT)\n"
   ]
  }
 ],
 "metadata": {
  "language_info": {
   "name": "python"
  }
 },
 "nbformat": 4,
 "nbformat_minor": 2
}
