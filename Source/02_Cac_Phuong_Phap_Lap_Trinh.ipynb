{
 "cells": [
  {
   "cell_type": "markdown",
   "metadata": {},
   "source": [
    "# Chương 02\n",
    "## CÁC PHƯƠNG PHÁP LẬP TRÌNH\n"
   ]
  },
  {
   "cell_type": "markdown",
   "metadata": {},
   "source": [
    "<b>1. MỤC TIÊU"
   ]
  },
  {
   "cell_type": "markdown",
   "metadata": {},
   "source": [
    "- Trong chương này các sinh viên sẽ có một cái nhìn sơ bộ về các phương pháp lập trình khác nhau:\n",
    "\n",
    "    + Phương pháp lập trình hướng lệnh.\n",
    "\n",
    "    + Phương pháp lập trình hướng thủ tục, hàm.\n",
    "\n",
    "    + Phương pháp lập trình hướng đơn thể.\n",
    "    \n",
    "    + Phương pháp lập trình hướng đối tượng (TênMônHọc)."
   ]
  },
  {
   "cell_type": "markdown",
   "metadata": {},
   "source": [
    "<b> 2. PHƯƠNG PHÁP LẬP TRÌNH HƯỚNG LỆNH"
   ]
  },
  {
   "cell_type": "markdown",
   "metadata": {},
   "source": [
    "- Khái niệm: Trong phương pháp này người ta xem chương trình là tập hợp các lệnh.\n",
    "\n",
    "    + Khi đó việc viết chương trình là xác định xem chương trình gồm những lệnh nào, thứ tự thực hiện của các lệnh ra sao.\n"
   ]
  },
  {
   "cell_type": "markdown",
   "metadata": {},
   "source": [
    "## Procedural Programming\n",
    "<b> 3. PHƯƠNG PHÁP LẬP TRÌNH HƯỚNG THỦ TỤC, HÀM"
   ]
  },
  {
   "cell_type": "markdown",
   "metadata": {},
   "source": [
    "- Khái niệm: Trong phương pháp này người ta xem chương trình là một hệ thống các thủ tục và hàm. Trong đó, mỗi thủ tục và hàm là một dãy các lệnh được sắp thứ tự.\n",
    " \n",
    "- Khi đó, việc viết chương trình là xác định xem chương trình gồm các thủ tục và hàm nào, mối quan hệ giữa chúng ra sao?"
   ]
  },
  {
   "cell_type": "markdown",
   "metadata": {},
   "source": [
    "## Procedural Programming\n",
    "<b> 4. PHƯƠNG PHÁP LẬP TRÌNH HƯỚNG ĐƠN THỂ"
   ]
  },
  {
   "cell_type": "markdown",
   "metadata": {},
   "source": [
    "- Khái niệm: Trong phương pháp này người ta xem chương trình là 1 hệ thống các đơn thể, mỗi một đơn thể là 1 hệ thống các thủ tục và hàm.\n",
    "    + Khi đó, việc viết chương trình là xác định xem chương trình gồm những đơn thể nào?\n",
    "    + Đơn thể nào đã có sẵn, đơn thể nào phải đi mua và đơn thể nào phải tự viết.\n",
    "\n",
    "- Phân loại đơn thể: Người ta chia đơn thể thành 2 loại là đơn thể hướng dữ liệu và đơn thể hướng chức năng.\n",
    "\n",
    "    + Đơn thể hướng dữ liệu: là đơn thể được thiết kế và xây dựng để phục vụ cho một kiểu dữ liệu nào đó bên trong chương trình.  \n",
    "        • Ví dụ: Thư viện string.\n",
    "\n",
    "    + Đơn thể hướng chức năng: là đơn thể được thiết kế và xây dựng để phục vụ cho một nhóm chức năng nào đó bên trong chương trình.  \n",
    "        • Ví dụ: Thư viện cmath."
   ]
  },
  {
   "cell_type": "markdown",
   "metadata": {},
   "source": [
    "## Object-oriented programming - OOP\n",
    "<b> 5. PHƯƠNG PHÁP LẬP TRÌNH HƯỚNG ĐỐI TƯỢNG"
   ]
  },
  {
   "cell_type": "markdown",
   "metadata": {},
   "source": [
    "- Khái niệm: Trong phương pháp này người ta xem chương trình là một hệ thống các đối tượng. Mỗi một đối tượng (object) là sự bao bọc bên trong nó 2 thành phần:\n",
    "\n",
    "    + Thành phần dữ liệu (data): là các thông tin về chính đối tượng. Trong một số tài liệu, sách vở thành phần này còn được gọi là thành phần thuộc tính (attribute, property), thành phần thông tin (information).\n",
    "\n",
    "    + Thành phần hành động: là các khả năng mà đối tượng có thể thực hiện. Thành phần này còn có các tên gọi như sau: phương thức (method), hàm thành phần – hàm thành viên (member function), hàm chức năng, hành vi (behavior).\n",
    "\n"
   ]
  },
  {
   "cell_type": "markdown",
   "metadata": {},
   "source": [
    "- Mỗi một đối tượng sẽ được cài đặt bên trong chương trình dưới dạng đơn thể chứa dữ liệu.\n",
    "\n",
    "- Thêm vào đó tính chất kế thừa (inheritance) cho phép chúng ta xây dựng đối tượng mới dựa trên cơ sở đối tượng đã có."
   ]
  },
  {
   "cell_type": "markdown",
   "metadata": {},
   "source": [
    "# Tài liệu tham khảo"
   ]
  },
  {
   "cell_type": "markdown",
   "metadata": {},
   "source": [
    "https://www.cl.cam.ac.uk/teaching/1011/R201/ppig-book/ch1-1.pdf"
   ]
  }
 ],
 "metadata": {
  "language_info": {
   "name": "python"
  }
 },
 "nbformat": 4,
 "nbformat_minor": 2
}
