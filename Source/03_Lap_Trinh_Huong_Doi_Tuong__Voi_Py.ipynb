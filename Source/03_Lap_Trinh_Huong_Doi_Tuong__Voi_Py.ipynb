{
 "cells": [
  {
   "cell_type": "markdown",
   "metadata": {},
   "source": [
    "# Chương 03\n",
    "\n",
    "    LẬP TRÌNH HƯỚNG ĐỐI TƯỢNG VỚI PY\n"
   ]
  },
  {
   "cell_type": "markdown",
   "metadata": {},
   "source": [
    "## Problem\n",
    "\n",
    "    1. Đặt vấn đề\n",
    "\n",
    "- Bài toán: Viết chương trình nhập họ tên, điểm toán, điểm văn của một học sinh. Tính điểm trung bình và xuất kết quả.\n"
   ]
  },
  {
   "cell_type": "markdown",
   "metadata": {},
   "source": [
    "## Class\n",
    "\n",
    "    2. LỚP ĐỐI TƯỢNG (CLASS) – PYTHON\n"
   ]
  },
  {
   "cell_type": "markdown",
   "metadata": {},
   "source": [
    "- <b>Khái niệm <b>: Lớp đối tượng (class) hiểu một cách đơn giản nhất là sự tích hợp của hai thành phần: Thành phần dữ liệu và Thành phần xử lý.\n"
   ]
  },
  {
   "cell_type": "markdown",
   "metadata": {},
   "source": [
    "─ <b>Cú pháp khai báo lớp:\n",
    "\n",
    "    classCTenLop:\n",
    "        Thành phần dữ liệu.\n",
    "        Thành phần xử lý.\n"
   ]
  },
  {
   "cell_type": "code",
   "execution_count": null,
   "metadata": {},
   "outputs": [],
   "source": [
    "# Thành phần dữ liệu\n",
    "class CHocSinh:\n",
    "    def __init__(self):\n",
    "        self.HoTen = \"\"\n",
    "        self.Toan = 0\n",
    "        self.Van = 0\n",
    "        self.DiemTrungBinh = 0\n"
   ]
  },
  {
   "cell_type": "markdown",
   "metadata": {},
   "source": [
    "## Object\n",
    "\n",
    "    3. ĐỐI TƯỢNG (OBJECT) – PYTHON\n"
   ]
  },
  {
   "cell_type": "markdown",
   "metadata": {},
   "source": [
    "- <b>Khái niệm: Đối tượng là sự thể hiện của một lớp. Trong một lớp có thể có nhiều sự thể hiện khác nhau. Nói một cách khác, có thể có nhiều đối tượng cùng thuộc về một lớp. <b>\n",
    "\n",
    "- <b>Cú pháp khai báo đối tượng trong Python:\n",
    "\n",
    "      <Tenđt> = CTenLop()\n"
   ]
  },
  {
   "cell_type": "markdown",
   "metadata": {},
   "source": [
    "─ Ví dụ 1: x = CHocSinh()\n",
    "\n",
    "    Trong ví dụ trên ta nói x là một đối tượng thuộc về lớp đối tượng CHocSinh.\n",
    "\n",
    "─ Ví dụ 2: a = CHocSinh(), b = CHocSinh() y = CHocSinh()\n",
    "\n",
    "    Trong ví dụ trên ta nói a, b, y là ba đối tượng thuộc về lớp đối tượng CHocSinh.\n",
    "    Nói một cách khác: Lớp đối tượng CHocSinh có ba sự thể hiện khác nhau.\n"
   ]
  },
  {
   "cell_type": "markdown",
   "metadata": {},
   "source": [
    "## Method\n",
    "\n",
    "    4. PHƯƠNG THỨC (METHOD) – PYTHON\n"
   ]
  },
  {
   "cell_type": "markdown",
   "metadata": {},
   "source": [
    "─ <b>Khái niệm: Phương thức (method) là khả năng mà đối tượng (object) thuộc về lớp có thể thực hiện\n",
    "\n",
    "─ <b>Cú pháp định nghĩa phương thức:\n",
    "\n",
    "    class CTenLop:\n",
    "        ...\n",
    "        def TenPhuongThuc(self, <ThamSố>):\n",
    "            // ThânPhươngThức\n",
    "        ...\n"
   ]
  },
  {
   "cell_type": "code",
   "execution_count": null,
   "metadata": {},
   "outputs": [],
   "source": [
    "class CHocSinh:\n",
    "    def __init__(self):\n",
    "        self.HoTen = \"\"\n",
    "        self.Toan = 0\n",
    "        self.Van = 0\n",
    "        self.DiemTrungBinh = 0\n",
    "\n",
    "    def Nhap(self):\n",
    "        self.HoTen = input(\"Nhap ho ten: \")\n",
    "        self.Toan = int(input(\"Nhap toan: \"))\n",
    "        self.Van = int(input(\"Nhap van: \"))\n",
    "\n",
    "    def XuLy(self):\n",
    "        self.DiemTrungBinh = (self.Toan + self.Van) / 2\n",
    "\n",
    "    def Xuat(self):\n",
    "        print(\"Ho ten:\", self.HoTen)\n",
    "        print(\"Diem Toan:\", self.Toan)\n",
    "        print(\"Diem Van:\", self.Van)\n",
    "        print(\"Diem trung binh=\", self.DiemTrungBinh)\n"
   ]
  },
  {
   "cell_type": "markdown",
   "metadata": {},
   "source": [
    "    5. ĐỐI TƯỢNG HÀNH ĐỘNG – PYTHON\n"
   ]
  },
  {
   "cell_type": "markdown",
   "metadata": {},
   "source": [
    "─ <b> Kháiniệm: Đối tượng hành động là đối tượng gọi thực hiện phương thức mà lớp đối tượng nó thuộc về cung cấp.\n",
    "\n",
    "─ <b> Cú pháp:\n",
    "\n",
    "        …TenDoiTuong.PhuongThuc(<Đối Số>)…\n",
    "\n",
    "─ Ký hiệu \".\" được gọi là dot operator (toán tử chấm).\n"
   ]
  },
  {
   "cell_type": "markdown",
   "metadata": {},
   "source": [
    "─ Ví dụ 01:\n",
    "\n",
    "1.  hs = CHocSinh()\n",
    "2.  hs.Nhap()\n",
    "\n",
    "        ─ Trong câu lệnh thứ nhất của đoạn chương trình trên ta nói: hs là đối tượng thuộc lớp đối tượng CHocSinh.\n",
    "\n",
    "        ─ Trong câu lệnh thứ hai của đoạn chương trình trên ta nói: đối tượng hs gọi thực hiện phương thức Nhập.\n",
    "\n",
    "─\n",
    "Ví dụ 02:\n",
    "\n",
    "1.  a = CHocSinh()\n",
    "2.  b = CHocSinh()\n",
    "3.  c = CHocSinh()\n",
    "4.  a.Nhap()\n",
    "5.  b.Nhap()\n",
    "6.  c.Nhap()\n",
    "\n",
    "        ─ Trong câu lệnh thứ tư của đoạn chương trình trên ta nói: đối tượng a gọi thực hiện phương thức Nhập.\n",
    "\n",
    "        ─ Trong câu lệnh thứ năm của đoạn chương trình trên ta nói: đối tượng b gọi thực hiện phương thức Nhập.\n",
    "\n",
    "        ─ Trong câu lệnh thứ sáu của đoạn chương trình trên ta nói: đối tượng c gọi thực hiện phương thức Nhập.\n"
   ]
  },
  {
   "cell_type": "code",
   "execution_count": 1,
   "metadata": {},
   "outputs": [],
   "source": [
    "class CHocSinh:\n",
    "    def Nhap(self):\n",
    "        self.HoTen = input(\"Nhap ho ten: \")\n",
    "        self.Toan = int(input(\"Nhap toan: \"))\n",
    "        self.Van = int(input(\"Nhap van: \"))\n",
    "        # HoTen, Toan, Van là thuộc tính của đối tượng đang gọi thực hiện phương thức Nhap\n",
    "\n",
    "    def XuLy(self):\n",
    "        self.DiemTrungBinh = (self.Toan + self.Van) / 2\n",
    "\n",
    "    def Xuat(self):\n",
    "        print(\"Ho ten:\", self.HoTen)\n",
    "        print(\"Diem Toan:\", self.Toan)\n",
    "        print(\"Diem Van:\", self.Van)\n",
    "        print(\"Diem trung binh=\", self.DiemTrungBinh)\n"
   ]
  },
  {
   "cell_type": "markdown",
   "metadata": {},
   "source": [
    "    6. Chương trình đầu tiên python\n"
   ]
  },
  {
   "cell_type": "markdown",
   "metadata": {},
   "source": [
    "─ Bài toán: Viết chương trình nhập họ tên, điểm toán, điểm văn của một học sinh. Tính điểm trung bình và xuất kết quả.\n",
    "\n",
    "─ Chương trình:\n"
   ]
  },
  {
   "cell_type": "code",
   "execution_count": 3,
   "metadata": {},
   "outputs": [
    {
     "name": "stdout",
     "output_type": "stream",
     "text": [
      "Ho ten: Nguyễn Văn Tèo\n",
      "Diem Toan: 9\n",
      "Diem Van: 4\n",
      "Diem trung binh= 6.5\n"
     ]
    }
   ],
   "source": [
    "class CHocSinh:\n",
    "    def __init__(self):\n",
    "        self.HoTen = \"\"\n",
    "        self.Toan = 0\n",
    "        self.Van = 0\n",
    "        self.DiemTrungBinh = 0\n",
    "\n",
    "    def Nhap(self):\n",
    "        self.HoTen = input(\"Nhap ho ten: \")\n",
    "        self.Toan = int(input(\"Nhap toan: \"))\n",
    "        self.Van = int(input(\"Nhap van: \"))\n",
    "\n",
    "    def XuLy(self):\n",
    "        self.DiemTrungBinh = (self.Toan + self.Van) / 2\n",
    "\n",
    "    def Xuat(self):\n",
    "        print(\"Ho ten:\", self.HoTen)\n",
    "        print(\"Diem Toan:\", self.Toan)\n",
    "        print(\"Diem Van:\", self.Van)\n",
    "        print(\"Diem trung binh=\", self.DiemTrungBinh)\n",
    "\n",
    "\n",
    "def main():\n",
    "    hs = CHocSinh()\n",
    "    hs.Nhap()\n",
    "    hs.XuLy()\n",
    "    hs.Xuat()\n",
    "\n",
    "\n",
    "if __name__ == \"__main__\":\n",
    "    main()\n"
   ]
  },
  {
   "cell_type": "markdown",
   "metadata": {},
   "source": [
    "    7. ỨNG DỤNG – PYTHON\n"
   ]
  },
  {
   "cell_type": "markdown",
   "metadata": {},
   "source": [
    "─ Bài 1: Viết chương trình nhập vào một phân số. Rút gọn phân số đó và xuất kết quả.\n",
    "\n",
    "─ Chương trình\n"
   ]
  },
  {
   "cell_type": "code",
   "execution_count": 4,
   "metadata": {},
   "outputs": [
    {
     "name": "stdout",
     "output_type": "stream",
     "text": [
      "Phan so truoc khi rut gon: 6 / 2\n",
      "Phan so sau khi rut gon: 3 / 1\n"
     ]
    }
   ],
   "source": [
    "class CPhanSo:\n",
    "    def __init__(self):\n",
    "        self.Tu = 0\n",
    "        self.Mau = 1\n",
    "\n",
    "    def Nhap(self):\n",
    "        self.Tu = int(input(\"Nhap tu: \"))\n",
    "        self.Mau = int(input(\"Nhap mau: \"))\n",
    "\n",
    "    def Xuat(self):\n",
    "        print(self.Tu, \"/\", self.Mau)\n",
    "\n",
    "    def RutGon(self):\n",
    "        uc = ucln(self.Tu, self.Mau)\n",
    "        self.Tu = self.Tu // uc\n",
    "        self.Mau = self.Mau // uc\n",
    "\n",
    "\n",
    "def ucln(a, b):\n",
    "    a = abs(a)\n",
    "    b = abs(b)\n",
    "    while b > 0:\n",
    "        a = a % b\n",
    "        a, b = b, a\n",
    "    return a\n",
    "\n",
    "\n",
    "def main():\n",
    "    ps = CPhanSo()\n",
    "    ps.Nhap()\n",
    "    print(\"Phan so truoc khi rut gon:\", end=\" \")\n",
    "    ps.Xuat()\n",
    "    ps.RutGon()\n",
    "    print(\"Phan so sau khi rut gon:\", end=\" \")\n",
    "    ps.Xuat()\n",
    "\n",
    "\n",
    "if __name__ == \"__main__\":\n",
    "    main()\n"
   ]
  },
  {
   "cell_type": "markdown",
   "metadata": {},
   "source": [
    "─ Bài 2: Viết chương trình nhập vào tọa độ 2 điểm trong mặt phẳng Oxy. Tính khoảng cách giữa chúng và xuất kết quả.\n",
    "\n",
    "─ Chương trình\n"
   ]
  },
  {
   "cell_type": "code",
   "execution_count": 5,
   "metadata": {},
   "outputs": [
    {
     "name": "stdout",
     "output_type": "stream",
     "text": [
      "Nhap toa do diem A: \n",
      "Nhap toa do diem B: \n",
      "Diem A:  ( 1.0 , 2.0 )\n",
      "Diem B:  ( 3.0 , 4.0 )\n",
      "Khoang cach la 2.8284271247461903\n"
     ]
    }
   ],
   "source": [
    "import math\n",
    "\n",
    "\n",
    "class CDiem:\n",
    "    def __init__(self):\n",
    "        self.x = 0\n",
    "        self.y = 0\n",
    "\n",
    "    def Nhap(self):\n",
    "        self.x = float(input(\"Nhap hoanh do: \"))\n",
    "        self.y = float(input(\"Nhap tung do: \"))\n",
    "\n",
    "    def Xuat(self):\n",
    "        print(\"(\", self.x, \",\", self.y, \")\")\n",
    "\n",
    "    def KhoangCach(self, P):\n",
    "        return math.sqrt(\n",
    "            (self.x - P.x) * (self.x - P.x) + (self.y - P.y) * (self.y - P.y)\n",
    "        )\n",
    "\n",
    "\n",
    "def main():\n",
    "    A = CDiem()\n",
    "    print(\"Nhap toa do diem A: \")\n",
    "    A.Nhap()\n",
    "    B = CDiem()\n",
    "    print(\"Nhap toa do diem B: \")\n",
    "    B.Nhap()\n",
    "    print(\"Diem A: \", end=\" \")\n",
    "    A.Xuat()\n",
    "    print(\"Diem B: \", end=\" \")\n",
    "    B.Xuat()\n",
    "    print(\"Khoang cach la\", A.KhoangCach(B))\n",
    "\n",
    "\n",
    "if __name__ == \"__main__\":\n",
    "    main()\n"
   ]
  },
  {
   "cell_type": "markdown",
   "metadata": {},
   "source": [
    "    Bài tập\n"
   ]
  },
  {
   "cell_type": "markdown",
   "metadata": {},
   "source": [
    "─ Bài 1: Viết chương trình nhập vào một phân số. Hãy cho biết phân số đó là phân số âm hay dương hay bằng không.\n",
    "\n",
    "─ Bài 2: Viết chương trình nhập tọa độ hai điểm trong không gian. Tính khoảng cách giữa chúng và xuất kết quả.\n",
    "\n",
    "─ Bài 3: Viết chương trình nhập vào 2 phân số. Tìm phân số lớn nhất và xuất kết quả.\n",
    "\n",
    "─ Bài 4: Viết chương trình nhập vào hai phân số. Tính tổng, hiệu, tích, thương giữa chúng và xuất kết quả.\n",
    "\n",
    "─ Bài 5: Viết chương trình nhập vào 2 số phức. Tính tổng, hiệu, tích và xuất kết quả.\n",
    "\n",
    "─ Bài 6: Viết chương trình nhập vào một ngày. Tìm ngày kế tiếp và xuất kết quả.\n",
    "\n",
    "─ Bài 7: Viết chương trình nhập vào một ngày. Tìm ngày hôm qua và xuất kết quả.\n",
    "\n",
    "─ Bài 8: Viết chương trình nhập toạ độ 3 đỉnh A,B,C của 1 tam giác trong mặt phẳng Oxy. Tính chu vi, diện tích và tìm tọa độ trọng tâm.\n",
    "\n",
    "─ Bài 9: Viết chương trình nhập tọa tâm và bán kính của một đường tròn. Tính diện tích và chu vi của đường tròn.\n",
    "\n",
    "─ Bài 10: Hãy khai báo và định nghĩa phương thức nhập và phương thức xuất cho các lớp đối tượng sau:\n",
    "\n",
    "    1. Lớp điểm (CDiem).\n",
    "    2. Lớp điểm không gian (CDiemKhongGian).\n",
    "    3. Lớp phân số (CPhanSo).\n",
    "    4. Lớp hỗn số (CHonSo).\n",
    "    5. Lớp số phức (CSoPhuc).\n",
    "    6. Lớp ngày (CNgay).\n",
    "    7. Lớp thời gian (CThoiGian).\n",
    "    8. Lớp đơn thức (CDonThuc).\n",
    "    9. Lớp đường thẳng (CDuongThang) trong mặt phẳng 𝑂𝑥𝑦.\n",
    "    10.Lớp đường tròn (CDuongTron) trong mặt phẳng 𝑂𝑥𝑦.\n",
    "    11.Lớp tam giác (CTamGiac) trong mặt phẳng 𝑂𝑥𝑦.\n",
    "    12.Lớp hình cầu (CHinhCau) trong không gian 𝑂𝑥𝑦𝑧.\n",
    "\n",
    "─ Bài 11: Hãy khai báo và định nghĩa các phương thức thông tin cung cấp và cập nhật thông tin tương ứng với các thuộc tính cho tất cả lớp đối tượng sau:\n",
    "\n",
    "    1. Lớp điểm (CDiem).\n",
    "    2. Lớp điểm không gian (CDiemKhongGian).\n",
    "    3. Lớp phân số (CPhanSo).\n",
    "    4. Lớp hỗn số (CHonSo).\n",
    "    5. Lớp số phức (CSoPhuc).\n",
    "    6. Lớp ngày (CNgay).\n",
    "    7. Lớp thời gian (CThoiGian).\n",
    "    8. Lớp đơn thức (CDonThuc).\n",
    "    9. Lớp đường thẳng (CDuongThang) trong mặt phẳng 𝑂𝑥𝑦.\n",
    "    10.Lớp đường tròn (CDuongTron) trong mặt phẳng 𝑂𝑥𝑦.\n",
    "    11.Lớp tam giác (CTamGiac) trong mặt phẳng 𝑂𝑥𝑦.\n",
    "    12.Lớp hình cầu (CHinhCau) trong không gian 𝑂𝑥𝑦𝑧.\n",
    "    13. Lớp mảng một chiều tĩnh (CMangTinh).\n",
    "    14. Lớp mảng một chiều động (CMangDong).\n",
    "    15. Lớp ma trận tĩnh (CMaTranTinh).\n",
    "    16. Lớp ma trận động (CMaTranDong).\n",
    "    17. Lớp đa thức tĩnh (CDaThucTinh).\n",
    "    18. Lớp đa thức động (CDaThucDong).\n"
   ]
  },
  {
   "cell_type": "markdown",
   "metadata": {},
   "source": [
    "# Cảm ơn quí vị đã lắng nghe.\n",
    "\n",
    "    # Nhóm tác giả TS. Nguyễn Tấn Trần Minh Khang (from Ho Chi Minh University of Information Technology - UIT)\n"
   ]
  }
 ],
 "metadata": {
  "kernelspec": {
   "display_name": "base",
   "language": "python",
   "name": "python3"
  },
  "language_info": {
   "codemirror_mode": {
    "name": "ipython",
    "version": 3
   },
   "file_extension": ".py",
   "mimetype": "text/x-python",
   "name": "python",
   "nbconvert_exporter": "python",
   "pygments_lexer": "ipython3",
   "version": "3.12.4"
  }
 },
 "nbformat": 4,
 "nbformat_minor": 2
}
