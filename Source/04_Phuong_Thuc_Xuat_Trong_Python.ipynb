{
 "cells": [
  {
   "cell_type": "markdown",
   "metadata": {},
   "source": [
    "# Chương 4\n",
    "    Phương thức xuất trong Python"
   ]
  },
  {
   "cell_type": "markdown",
   "metadata": {},
   "source": [
    "## 1. ĐẶT VẤN ĐỀ – PYTHON"
   ]
  },
  {
   "cell_type": "markdown",
   "metadata": {},
   "source": [
    "─ Nhập xuất một đối tượng phân số.\n",
    "\n",
    "\n",
    "+ 1. a = CPhanSo()\n",
    "+ 2. a.Nhap()\n",
    "+ 3. a.Xuat()\n",
    "\n",
    "─ Xuất một đối tượng phân số với câu lệnh print.\n",
    "\n",
    "+ 1. a = CPhanSo()\n",
    "+ 2. a.Nhap()\n",
    "+ 3. print(a)\n",
    "\n",
    "=> Làm sao?\n"
   ]
  },
  {
   "cell_type": "markdown",
   "metadata": {},
   "source": [
    "## 2. GIẢI QUYẾT VẤN ĐỀ – PYTHON\n"
   ]
  },
  {
   "cell_type": "markdown",
   "metadata": {},
   "source": [
    "─ Để  giải  quyết  vấn  đề  trên  ta  phải  định  nghĩa  phương  thức \n",
    "\n",
    "`__str__` cho lớp đối tượng CPhanSo.\n"
   ]
  },
  {
   "cell_type": "code",
   "execution_count": 1,
   "metadata": {},
   "outputs": [
    {
     "name": "stdout",
     "output_type": "stream",
     "text": [
      "5 / 2\n",
      "5 / 2\n"
     ]
    }
   ],
   "source": [
    "class CPhanSo:\n",
    "    def __init__(self) -> None:\n",
    "        self.Tu = 0\n",
    "        self.Mau = 1\n",
    "\n",
    "    def Nhap(self) -> None:\n",
    "        self.Tu = int(input(\"Nhap tu: \"))\n",
    "        self.Mau = int(input(\"Nhap mau:\"))\n",
    "        \n",
    "    def Xuat(self):\n",
    "        print(self.Tu, \"/\", self.Mau)\n",
    "        \n",
    "    def __str__(self):\n",
    "        return f\"{self.Tu} / {self.Mau}\"\n",
    "\n",
    "def main() -> None:\n",
    "    ps = CPhanSo()\n",
    "    ps.Nhap()\n",
    "    ps.Xuat()\n",
    "    print(ps)\n",
    "    \n",
    "if __name__ == \"__main__\":\n",
    "    main()\n"
   ]
  },
  {
   "cell_type": "markdown",
   "metadata": {},
   "source": [
    "## 3. BÀI TẬP VỀ NHÀ – PYTHON"
   ]
  },
  {
   "cell_type": "markdown",
   "metadata": {},
   "source": [
    "─ Hãy  định  nghĩa  phương  thức  __str__ cho  các  lớp  đối  tượng \n",
    "sau:\n",
    "\n",
    "    1. Lớp điểm (CDiem).\n",
    "    2. Lớp điểm không gian (CDiemKhongGian).\n",
    "    3. Lớp phân số (CPhanSo).\n",
    "    4. Lớp hỗn số (CHonSo).\n",
    "    5. Lớp số phức (CSoPhuc).\n",
    "    6. Lớp ngày (CNgay)\n",
    "    7. Lớp thời gian (CThoiGian).\n",
    "    8. Lớp đơn thức (CDonThuc).\n",
    "    9. Lớp đường thẳng (CDuongThang) trong mặt phẳng 𝑂𝑥𝑦.\n",
    "    10.Lớp đường tròn (CDuongTron) trong mặt phẳng 𝑂𝑥𝑦.\n",
    "    11.Lớp tam giác (CTamGiac) trong mặt phẳng 𝑂𝑥𝑦.\n",
    "    12.Lớp hình cầu (CHinhCau) trong không gian 𝑂𝑥𝑦𝑧."
   ]
  },
  {
   "cell_type": "markdown",
   "metadata": {},
   "source": [
    "# Cảm ơn quí vị đã lắng nghe.\n",
    "\n",
    "    # Nhóm tác giả TS. Nguyễn Tấn Trần Minh Khang (from Ho Chi Minh University of Information Technology - UIT)\n"
   ]
  }
 ],
 "metadata": {
  "kernelspec": {
   "display_name": "Python (khoibui)",
   "language": "python",
   "name": "khoibui"
  },
  "language_info": {
   "codemirror_mode": {
    "name": "ipython",
    "version": 3
   },
   "file_extension": ".py",
   "mimetype": "text/x-python",
   "name": "python",
   "nbconvert_exporter": "python",
   "pygments_lexer": "ipython3",
   "version": "3.12.3"
  }
 },
 "nbformat": 4,
 "nbformat_minor": 2
}
