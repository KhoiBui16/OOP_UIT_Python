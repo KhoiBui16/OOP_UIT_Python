{
 "cells": [
  {
   "cell_type": "markdown",
   "metadata": {},
   "source": [
    "# Chương 9: THIẾT KẾ LỚP\n"
   ]
  },
  {
   "cell_type": "markdown",
   "metadata": {},
   "source": [
    "## 1. ĐẶT VẤN ĐỀ\n"
   ]
  },
  {
   "cell_type": "markdown",
   "metadata": {},
   "source": [
    "─ Hãy thiết kế và xây dựng lớp CPhanSo trong toán học\n"
   ]
  },
  {
   "cell_type": "markdown",
   "metadata": {},
   "source": [
    "## 2. PHÂN LOẠI PHƯƠNG THỨC\n"
   ]
  },
  {
   "cell_type": "markdown",
   "metadata": {},
   "source": [
    "─ Các `phương thức (method)` của một lớp đối tượng (class) được `chia thành 5 loại` như sau:\n",
    "\n",
    "- Nhóm các phương thức `khởi tạo`.\n",
    "- Nhóm các phương thức `cung cấp thông tin`.\n",
    "- Nhóm các phương thức `cập nhật thông tin`.\n",
    "- Nhóm các phương thức `kiểm tra`.\n",
    "- Nhóm các phương thức `xử lý`.\n"
   ]
  },
  {
   "cell_type": "markdown",
   "metadata": {},
   "source": [
    "#### 2.1 Nhóm các phương thức `khởi tạo`\n"
   ]
  },
  {
   "cell_type": "markdown",
   "metadata": {},
   "source": [
    "- Các phương thức `khởi tạo (init)` của một lớp đối tượng (class) giữ `nhiệm  vụ  khởi  tạo  các  thông  tin` (attributes, properties, information, data) `của  những  đối  tượng ` (objects) `thuộc về  lớp khi đối tượng ra đời hoặc khi đối tượng có nhu cầu`.\n",
    "\n",
    "- Các `phương thức thiết lập` (constructors) ` thuộc  nhóm  phương thức khởi tạo`.\n",
    "\n",
    "- Toán tử nhập `(operator >>)` thuộc `nhóm phương thức khởi tạo`.\n"
   ]
  },
  {
   "cell_type": "markdown",
   "metadata": {},
   "source": [
    "#### `Phân loại` phương thức khởi tạo.\n"
   ]
  },
  {
   "cell_type": "markdown",
   "metadata": {},
   "source": [
    "- Phương thức khởi tạo `mặc định`.\n",
    "\n",
    "- Phương thức khởi tạo `dựa  vào  đối  tượng  khác  cùng  thuộc về lớp`.\n",
    "\n",
    "- Phương thức khởi tạo khi `biết đầy đủ thông tin`.\n"
   ]
  },
  {
   "cell_type": "markdown",
   "metadata": {},
   "source": [
    "#### 2.2 Nhóm các phương thức `cung cấp thông tin`\n"
   ]
  },
  {
   "cell_type": "markdown",
   "metadata": {},
   "source": [
    "- Các phương thức `cung cấp thông tin` của một lớp đối tượng (class)`giữ nhiệm vụ cung cấp các thông tin` (attributes, properties,  information,  data)` của những đối tượng `(objects)` thuộc về lớp cho thế giới bên ngoài.\n",
    "\n",
    "- `Toán tử xuất (operator <<)` thuộc nhóm `pt cung cấp thông tin`.\n",
    "\n",
    "- Trong một lớp `có  bao  nhiêu  thuộc  tính` (attributes, properties) thì sẽ `có ít nhất bấy nhiêu phương thức cung cấp thông tin`.\n",
    "  \n",
    "- Thông thường các phương thức `cung cấp thông tin` bắt  đầu bằng cụm từ `get`.\n"
   ]
  },
  {
   "cell_type": "markdown",
   "metadata": {},
   "source": [
    "#### 2.3 Nhóm các phương thức `cập nhật thông tin`"
   ]
  },
  {
   "cell_type": "markdown",
   "metadata": {},
   "source": [
    "- Các  phương  thức  `cập  nhật  thông  tin`  của  một  lớp  đối  tượng (class) `giữ nhiệm vụ cập nhật các thông tin` (attributes, properties, information) của `những đối tượng` (objects) thuộc về lớp `khi có sự thay đổi (sự hiệu chỉnh, sự biến động).`\n",
    "\n",
    "- Trong  một  lớp  `có  bao  nhiêu  thuộc  tính`  (attributes,  properties) thì sẽ `có ít nhất bấy nhiêu phương thức cập nhật thông tin`.\n",
    "\n",
    "- Thông  thường  các  phương  thức  `cập  nhật  thông  tin`  bắt  đầu bằng cụm từ `set`."
   ]
  },
  {
   "cell_type": "markdown",
   "metadata": {},
   "source": [
    "#### 2.4 Nhóm các phương thức `kiểm tra`"
   ]
  },
  {
   "cell_type": "markdown",
   "metadata": {},
   "source": [
    "- Các  phương  thức  `kiểm  tra`  của  một  lớp  đối  tượng  (class)  `giữ nhiệm vụ kiểm tra (test, check) tính hợp lệ của những thông tin ` (attributes,  properties,  information)  thuộc  về  các  đối  tượng, `kiểm tra một tính chất nào` đó của đối tượng.\n",
    "\n",
    "- Các phương thức `toán tử so sánh` (relational operators, comparison operators) `thuộc nhóm các phương thức kiểm tra.`\n",
    "\n",
    "- Thông thường các phương thức `kiểm tra` bắt đầu bằng cụm từ `is`."
   ]
  },
  {
   "cell_type": "markdown",
   "metadata": {},
   "source": [
    "#### 2.5 Nhóm các phương thức `xử lý`"
   ]
  },
  {
   "cell_type": "markdown",
   "metadata": {},
   "source": [
    "- Các  phương  thức  `xử  lý` của  một  lớp  đối  tượng  (class)  `giữ nhiệm vụ thực hiện các xử lý, tính toán cho lớp đối tượng.`\n",
    "- Các ` toán  tử  số  học`  (arithmetic  operators)  `thuộc  nhóm  các phương thức xử lý`. \n",
    "- Phương  thức ` phá  hủy`  (destructor)  `thuộc  nhóm  các  phương thức xử lý`.\n",
    "- `Toán tử gán` (operator =) `thuộc nhóm các phương thức xử lý`.\n"
   ]
  },
  {
   "cell_type": "markdown",
   "metadata": {},
   "source": [
    "## 3. BÀI TẬP VỀ NHÀ"
   ]
  },
  {
   "cell_type": "markdown",
   "metadata": {},
   "source": [
    "─ Hãy `thiết kế lớp` cho các lớp đối tượng sau:"
   ]
  },
  {
   "cell_type": "markdown",
   "metadata": {},
   "source": [
    "1. Lớp điểm `(CDiem)`.\n",
    "\n",
    "2. Lớp điểm không gian `(CDiemKhongGian)`.\n",
    "\n",
    "3. Lớp phân số `(CPhanSo)`.\n",
    "\n",
    "4. Lớp hỗn số `(CHonSo)`.\n",
    "\n",
    "5. Lớp số phức `(CSoPhuc)`.\n",
    "\n",
    "6. Lớp ngày `(CNgay)`.\n",
    "\n",
    "7. Lớp thời gian `(CThoiGian)`.\n",
    "\n",
    "8. Lớp đơn thức `(CDonThuc)`.\n",
    "\n",
    "9. Lớp đường thẳng `(CDuongThang)` trong mặt phẳng`Oxy`.\n",
    "\n",
    "10. Lớp đường tròn `(CDuongTron)` trong mặt phẳng `Oxy`.\n",
    "\n",
    "11. Lớp tam giác `(CTamGiac)` trong mặt phẳng `Oxy`.\n",
    "\n",
    "12. Lớp hình cầu `(CHinhCau)` trong không gian `Oxyz`.\n"
   ]
  },
  {
   "cell_type": "markdown",
   "metadata": {},
   "source": [
    "# Cảm ơn quí vị đã lắng nghe.\n",
    "\n",
    "    # Nhóm tác giả TS. Nguyễn Tấn Trần Minh Khang (from Ho Chi Minh University of Information Technology - UIT)\n"
   ]
  }
 ],
 "metadata": {
  "kernelspec": {
   "display_name": "Python (khoibui)",
   "language": "python",
   "name": "khoibui"
  },
  "language_info": {
   "codemirror_mode": {
    "name": "ipython",
    "version": 3
   },
   "file_extension": ".py",
   "mimetype": "text/x-python",
   "name": "python",
   "nbconvert_exporter": "python",
   "pygments_lexer": "ipython3",
   "version": "3.12.3"
  }
 },
 "nbformat": 4,
 "nbformat_minor": 2
}
