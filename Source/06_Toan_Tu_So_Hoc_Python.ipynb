{
 "cells": [
  {
   "cell_type": "markdown",
   "metadata": {},
   "source": [
    "# Chương 7\n",
    "    TOÁN TỬ SỐ HỌC TRONG PYTHON"
   ]
  },
  {
   "cell_type": "markdown",
   "metadata": {},
   "source": [
    "## 1. BÀI TOÁN DẪN NHẬP"
   ]
  },
  {
   "cell_type": "markdown",
   "metadata": {},
   "source": [
    "Bài toán: Viết chương trình nhập vào hai phân số. Tính tổng giữachúng và xuất kết quả băng phương pháp lập trình hướng đối tương.\n",
    "\n",
    "─ Chương trình:"
   ]
  },
  {
   "cell_type": "code",
   "execution_count": 3,
   "metadata": {},
   "outputs": [
    {
     "name": "stdout",
     "output_type": "stream",
     "text": [
      "Tong la: 10 / 8\n"
     ]
    }
   ],
   "source": [
    "class CPhanSo:\n",
    "    def __init__(self):\n",
    "        self.Tu = 0\n",
    "        self.Mau = 1\n",
    "        \n",
    "    def Nhap(self):\n",
    "        self.Tu = int(input(\"Nhap tu: \"))\n",
    "        self.Mau = int(input(\"Nhap mau:\"))\n",
    "    \n",
    "    def Xuat(self):\n",
    "        print(f\"{self.Tu} / {self.Mau}\")\n",
    "    \n",
    "    def Tong(self, x):\n",
    "        temp = CPhanSo()\n",
    "        temp.Tu = self.Tu * x.Mau + x.Tu * self.Mau\n",
    "        temp.Mau = self.Mau * x.Mau\n",
    "        return temp\n",
    "\n",
    "def main():\n",
    "    a = CPhanSo()\n",
    "    b = CPhanSo()\n",
    "    kq = CPhanSo()\n",
    "    a.Nhap()\n",
    "    b.Nhap()\n",
    "    kq = a.Tong(b)\n",
    "    print(\"Tong la:\", end = ' ')\n",
    "    kq.Xuat()\n",
    "\n",
    "if __name__ == \"__main__\":\n",
    "    main()\n"
   ]
  },
  {
   "cell_type": "markdown",
   "metadata": {},
   "source": [
    "## 2. KHÁI NIỆM"
   ]
  },
  {
   "cell_type": "markdown",
   "metadata": {},
   "source": [
    "─ Trong ngôn ngữ lập trình Python có các toán tử `số học` - `(arithmetic operators)` như sau:\n",
    "\n",
    "+ Toán tử `cộng` – addition operator `(__add__)`\n",
    "\n",
    "+ Toán tử `trừ` – subtraction operator `(__sub__)`\n",
    "\n",
    "+ Toán tử `nhân` – multiplication operator `(__mul__)`\n",
    "\n",
    "+ Toán tử `lũy thừa` – multiplication operator `(__pow__)`\n",
    "\n",
    "+ Toán tử `chia` – division operator `(__truediv__)`\n",
    "\n",
    "+ Toán tử `chia nguyên` – division operator `(__floordiv__)`\n",
    "\n",
    "+ Toán tử `mod` – modulo operator `(__mod__)`\n"
   ]
  },
  {
   "cell_type": "markdown",
   "metadata": {},
   "source": [
    "─ Trong ngôn ngữ lập trình Python còn có các toán tử thao tác trên bit (compound assignment bitwise operators) như sau:\n",
    "\n",
    "+ Toán tử `dịch phải` bit – shift right `(__rshift__)`\n",
    "  \n",
    "+ Toán tử `dịch trái` bit – shift left `(__lshift__)`\n",
    "\n",
    "+ Toán tử `and` trên bit – bitwise AND `(__and__)`\n",
    " \n",
    "+ Toán tử `or` trên bit – bitwise OR `(__or__)`\n",
    " \n",
    "+ Toán tử `xor` trên bit – bitwise XOR `(__xor__)`\n",
    " \n",
    "+ Toán tử `not` trên bit – bitwise NOT `(__invert__)`\n"
   ]
  },
  {
   "cell_type": "markdown",
   "metadata": {},
   "source": [
    "## 3. ĐẶT VẤN ĐỀ"
   ]
  },
  {
   "cell_type": "markdown",
   "metadata": {},
   "source": [
    "─ Hãy khai báo và định nghĩa các phương thức và toán tử cần thiết để các câu lệnh sau có thể thực hiện."
   ]
  },
  {
   "cell_type": "markdown",
   "metadata": {},
   "source": [
    "    1. a = CPhanSo()\n",
    "\n",
    "    2. b = CPhanSo()\n",
    "\n",
    "    3. kq = CPhanSo()\n",
    "\n",
    "    4. a.Nhap()\n",
    "\n",
    "    5. b.Nhap()\n",
    "\n",
    "    6. kq = a + b\n",
    "\n",
    "    7. print(\"Tong:\", kq)\n",
    "\n",
    "    8. kq = a - b\n",
    "\n",
    "    9. print(\"Hieu:\", kq)\n",
    "\n",
    "    10. kq = a \\* b\n",
    "\n",
    "    11. print(\"Tich:\", kq)\n",
    "\n",
    "    12. kq = a / b\n",
    "\n",
    "    13. print(\"Thuong:\", kq)\n"
   ]
  },
  {
   "cell_type": "markdown",
   "metadata": {},
   "source": [
    "## 4. GIẢI QUYẾT VẤN ĐỀ\n"
   ]
  },
  {
   "cell_type": "markdown",
   "metadata": {},
   "source": [
    "─ Để giải quyết vấn đề trên ta phải khai báo và định nghĩa các toántử số học cho lớp đối tượng CPhanSo."
   ]
  },
  {
   "cell_type": "code",
   "execution_count": null,
   "metadata": {},
   "outputs": [],
   "source": [
    "# Khai báo và định nghĩa lớp\n",
    "class CPhanSo:\n",
    "    def __init__(self):\n",
    "        self.Tu = 0\n",
    "        self.Mau = 1\n",
    "\n",
    "    def Nhap(self):\n",
    "        self.Tu = int(input(\"Nhap tu: \"))\n",
    "        self.Mau = int(input(\"Nhap mau: \"))\n",
    "\n",
    "    def Xuat(self):\n",
    "        print(self.Tu, \"/\", self.Mau)\n",
    "\n",
    "    def __str__(self):\n",
    "        return f\"{self.Tu} / {self.Mau}\"\n",
    "\n",
    "    def Tong(self, x):\n",
    "        temp = CPhanSo()\n",
    "        temp.Tu = self.Tu * x.Mau + self.Mau * x.Tu\n",
    "        temp.Mau = self.Mau * x.Mau\n",
    "        return temp\n",
    "    \n",
    "    # hàm định nghĩa toán tử\n",
    "    \n",
    "    def __add__(self, x):\n",
    "        temp = CPhanSo()\n",
    "        temp.Tu = self.Tu * x.Mau + self.Mau * x.Tu\n",
    "        temp.Mau = self.Mau * x.Mau\n",
    "        return temp\n",
    "    \n",
    "    def __sub__(self, x):\n",
    "        temp = CPhanSo()\n",
    "        temp.Tu = self.Tu * x.Mau - self.Mau * x.Tu\n",
    "        temp.Mau = self.Mau * x.Mau\n",
    "        return temp\n",
    "    \n",
    "    def __mul__(self, x):\n",
    "        temp = CPhanSo()\n",
    "        temp.Tu = self.Tu * x.Tu\n",
    "        temp.Mau = self.Mau * x.Mau\n",
    "        return temp\n",
    "\n",
    "    # floating point division\n",
    "    def __truediv__(self, x): \n",
    "        temp = CPhanSo()\n",
    "        temp.Tu = self.Tu * x.Mau\n",
    "        temp.Mau = self.Mau * x.Tu\n",
    "        return temp\n"
   ]
  },
  {
   "cell_type": "markdown",
   "metadata": {},
   "source": [
    "## 5. BÀI TẬP VỀ NHÀ"
   ]
  },
  {
   "cell_type": "markdown",
   "metadata": {},
   "source": [
    "    ─ Bài 01: Hãy định nghĩa các toán tử +, -, *, /, +=, -=, *=, /=, ++, -- cho lớp đối tượng CPhanSo.\n",
    "\n",
    "    ─ Bài 02: Hãy định nghĩa các toán tử +, -, *, /, +=, -=, *=, /= cho lớp đối tượng CSoPhuc.\n",
    "\n",
    "    ─ Bài 03: Hãy định nghĩa các toán tử *, /, *=, /= cho lớp đối tượng CDonThuc.\n",
    "\n",
    "    ─ Bài 04: Hãy định nghĩa các toán tử +, -, *, /, +=, -=, *=, /= cho lớp đối tượng CDaThuc."
   ]
  },
  {
   "cell_type": "markdown",
   "metadata": {},
   "source": [
    "# Cảm ơn quí vị đã lắng nghe.\n",
    "\n",
    "    # Nhóm tác giả TS. Nguyễn Tấn Trần Minh Khang (from Ho Chi Minh University of Information Technology - UIT)\n"
   ]
  }
 ],
 "metadata": {
  "kernelspec": {
   "display_name": "Python (khoibui)",
   "language": "python",
   "name": "khoibui"
  },
  "language_info": {
   "codemirror_mode": {
    "name": "ipython",
    "version": 3
   },
   "file_extension": ".py",
   "mimetype": "text/x-python",
   "name": "python",
   "nbconvert_exporter": "python",
   "pygments_lexer": "ipython3",
   "version": "3.12.3"
  }
 },
 "nbformat": 4,
 "nbformat_minor": 2
}
